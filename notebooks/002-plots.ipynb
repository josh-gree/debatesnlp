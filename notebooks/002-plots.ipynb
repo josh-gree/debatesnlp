{
 "cells": [
  {
   "cell_type": "code",
   "execution_count": 1,
   "metadata": {
    "collapsed": false
   },
   "outputs": [
    {
     "name": "stdout",
     "output_type": "stream",
     "text": [
      "loaded nvd3 IPython extension\n",
      "run nvd3.ipynb.initialize_javascript() to set up the notebook\n",
      "help(nvd3.ipynb.initialize_javascript) for options\n"
     ]
    }
   ],
   "source": [
    "import numpy as np\n",
    "import pandas as pd\n",
    "\n",
    "import matplotlib.pyplot as plt\n",
    "%matplotlib inline\n",
    "\n",
    "from nvd3 import lineChart"
   ]
  },
  {
   "cell_type": "code",
   "execution_count": 2,
   "metadata": {
    "collapsed": false
   },
   "outputs": [
    {
     "data": {
      "text/html": [
       "<div>\n",
       "<table border=\"1\" class=\"dataframe\">\n",
       "  <thead>\n",
       "    <tr style=\"text-align: right;\">\n",
       "      <th></th>\n",
       "      <th>clean_tweets</th>\n",
       "      <th>dates</th>\n",
       "      <th>hour</th>\n",
       "      <th>index</th>\n",
       "      <th>lat</th>\n",
       "      <th>long</th>\n",
       "      <th>min</th>\n",
       "      <th>place_names</th>\n",
       "      <th>polarity</th>\n",
       "      <th>polarity_cl</th>\n",
       "      <th>tweets</th>\n",
       "    </tr>\n",
       "  </thead>\n",
       "  <tbody>\n",
       "    <tr>\n",
       "      <th>0</th>\n",
       "      <td>the npr fact check of the second presidential...</td>\n",
       "      <td>1476061483923</td>\n",
       "      <td>1</td>\n",
       "      <td>0</td>\n",
       "      <td>NaN</td>\n",
       "      <td>NaN</td>\n",
       "      <td>4</td>\n",
       "      <td>None</td>\n",
       "      <td>2</td>\n",
       "      <td>2</td>\n",
       "      <td>RT @NPR: The NPR fact check of the second pres...</td>\n",
       "    </tr>\n",
       "    <tr>\n",
       "      <th>1</th>\n",
       "      <td>coffee  debate time dis gon b good</td>\n",
       "      <td>1476061484882</td>\n",
       "      <td>1</td>\n",
       "      <td>1</td>\n",
       "      <td>NaN</td>\n",
       "      <td>NaN</td>\n",
       "      <td>4</td>\n",
       "      <td>None</td>\n",
       "      <td>2</td>\n",
       "      <td>2</td>\n",
       "      <td>Coffee + debate time. Dis gon b good https://t...</td>\n",
       "    </tr>\n",
       "    <tr>\n",
       "      <th>2</th>\n",
       "      <td>in case anyone thinks trump actually cares at...</td>\n",
       "      <td>1476061484860</td>\n",
       "      <td>1</td>\n",
       "      <td>10</td>\n",
       "      <td>NaN</td>\n",
       "      <td>NaN</td>\n",
       "      <td>4</td>\n",
       "      <td>None</td>\n",
       "      <td>2</td>\n",
       "      <td>2</td>\n",
       "      <td>RT @revol_less: In case anyone thinks Trump ac...</td>\n",
       "    </tr>\n",
       "    <tr>\n",
       "      <th>3</th>\n",
       "      <td>chew on this trumps lewd audio might have res...</td>\n",
       "      <td>1476061486740</td>\n",
       "      <td>1</td>\n",
       "      <td>100</td>\n",
       "      <td>NaN</td>\n",
       "      <td>NaN</td>\n",
       "      <td>4</td>\n",
       "      <td>None</td>\n",
       "      <td>2</td>\n",
       "      <td>2</td>\n",
       "      <td>RT @NolteNC: Chew on this....\\n\\nTrump's Lewd ...</td>\n",
       "    </tr>\n",
       "    <tr>\n",
       "      <th>4</th>\n",
       "      <td>my fellow americans you are about to witness ...</td>\n",
       "      <td>1476061509584</td>\n",
       "      <td>1</td>\n",
       "      <td>1000</td>\n",
       "      <td>NaN</td>\n",
       "      <td>NaN</td>\n",
       "      <td>5</td>\n",
       "      <td>None</td>\n",
       "      <td>2</td>\n",
       "      <td>2</td>\n",
       "      <td>RT @OBrienMB_NY: My fellow Americans, you are ...</td>\n",
       "    </tr>\n",
       "  </tbody>\n",
       "</table>\n",
       "</div>"
      ],
      "text/plain": [
       "                                        clean_tweets          dates  hour  \\\n",
       "0   the npr fact check of the second presidential...  1476061483923     1   \n",
       "1                 coffee  debate time dis gon b good  1476061484882     1   \n",
       "2   in case anyone thinks trump actually cares at...  1476061484860     1   \n",
       "3   chew on this trumps lewd audio might have res...  1476061486740     1   \n",
       "4   my fellow americans you are about to witness ...  1476061509584     1   \n",
       "\n",
       "   index  lat  long  min place_names  polarity  polarity_cl  \\\n",
       "0      0  NaN   NaN    4        None         2            2   \n",
       "1      1  NaN   NaN    4        None         2            2   \n",
       "2     10  NaN   NaN    4        None         2            2   \n",
       "3    100  NaN   NaN    4        None         2            2   \n",
       "4   1000  NaN   NaN    5        None         2            2   \n",
       "\n",
       "                                              tweets  \n",
       "0  RT @NPR: The NPR fact check of the second pres...  \n",
       "1  Coffee + debate time. Dis gon b good https://t...  \n",
       "2  RT @revol_less: In case anyone thinks Trump ac...  \n",
       "3  RT @NolteNC: Chew on this....\\n\\nTrump's Lewd ...  \n",
       "4  RT @OBrienMB_NY: My fellow Americans, you are ...  "
      ]
     },
     "execution_count": 2,
     "metadata": {},
     "output_type": "execute_result"
    }
   ],
   "source": [
    "df = pd.read_json('debate.json')\n",
    "df = df.reset_index()\n",
    "df = df.drop('level_0',axis=1)\n",
    "df.head()"
   ]
  },
  {
   "cell_type": "code",
   "execution_count": 139,
   "metadata": {
    "collapsed": false
   },
   "outputs": [
    {
     "data": {
      "text/html": [
       "<div>\n",
       "<table border=\"1\" class=\"dataframe\">\n",
       "  <thead>\n",
       "    <tr style=\"text-align: right;\">\n",
       "      <th></th>\n",
       "      <th>negative</th>\n",
       "      <th>neutral</th>\n",
       "      <th>positive</th>\n",
       "    </tr>\n",
       "  </thead>\n",
       "  <tbody>\n",
       "    <tr>\n",
       "      <th>2016-09-10 21:00:00</th>\n",
       "      <td>34</td>\n",
       "      <td>548</td>\n",
       "      <td>66</td>\n",
       "    </tr>\n",
       "    <tr>\n",
       "      <th>2016-09-10 21:01:00</th>\n",
       "      <td>136</td>\n",
       "      <td>1939</td>\n",
       "      <td>183</td>\n",
       "    </tr>\n",
       "    <tr>\n",
       "      <th>2016-09-10 21:02:00</th>\n",
       "      <td>146</td>\n",
       "      <td>1728</td>\n",
       "      <td>161</td>\n",
       "    </tr>\n",
       "    <tr>\n",
       "      <th>2016-09-10 21:03:00</th>\n",
       "      <td>130</td>\n",
       "      <td>1653</td>\n",
       "      <td>181</td>\n",
       "    </tr>\n",
       "    <tr>\n",
       "      <th>2016-09-10 21:04:00</th>\n",
       "      <td>129</td>\n",
       "      <td>1799</td>\n",
       "      <td>241</td>\n",
       "    </tr>\n",
       "  </tbody>\n",
       "</table>\n",
       "</div>"
      ],
      "text/plain": [
       "                     negative  neutral  positive\n",
       "2016-09-10 21:00:00        34      548        66\n",
       "2016-09-10 21:01:00       136     1939       183\n",
       "2016-09-10 21:02:00       146     1728       161\n",
       "2016-09-10 21:03:00       130     1653       181\n",
       "2016-09-10 21:04:00       129     1799       241"
      ]
     },
     "execution_count": 139,
     "metadata": {},
     "output_type": "execute_result"
    }
   ],
   "source": [
    "polarity = df.groupby(['hour','min'])['polarity'].value_counts().unstack()\n",
    "polarity = polarity.reset_index().drop(['hour','min'],axis=1)\n",
    "\n",
    "time_index =  pd.date_range('2016-09-10 21:00:00', periods=len(polarity), freq='min')\n",
    "time_index_epoch_ms = [int(x.strftime(\"%s\"))*1000 for x in time_index]\n",
    "\n",
    "polarity = polarity.set_index(time_index)\n",
    "polarity.columns = ['negative','neutral','positive']\n",
    "polarity.head()"
   ]
  },
  {
   "cell_type": "code",
   "execution_count": 40,
   "metadata": {
    "collapsed": false
   },
   "outputs": [],
   "source": [
    "all_tweets = ' '.join(df.clean_tweets.tolist()).lower()\n",
    "tokens = all_tweets.split()\n",
    "\n",
    "stop = set(stopwords.words('english'))\n",
    "tokens = [tkn for tkn in tokens if tkn not in stop]\n",
    "\n",
    "c = Counter()\n",
    "c.update(tokens)"
   ]
  },
  {
   "cell_type": "code",
   "execution_count": 42,
   "metadata": {
    "collapsed": false
   },
   "outputs": [
    {
     "data": {
      "text/plain": [
       "[(u'trump', 76444),\n",
       " (u'hillary', 29208),\n",
       " (u'debate', 20765),\n",
       " (u'donald', 16465),\n",
       " (u'clinton', 12966),\n",
       " (u'like', 12298),\n",
       " (u'question', 8416),\n",
       " (u'im', 8170),\n",
       " (u'women', 6318),\n",
       " (u'dont', 6080),\n",
       " (u'trumps', 5804),\n",
       " (u'people', 5690),\n",
       " (u'one', 5688),\n",
       " (u'hes', 5471),\n",
       " (u'said', 5408),\n",
       " (u'know', 5325),\n",
       " (u'isis', 5234),\n",
       " (u'going', 5092),\n",
       " (u'\\u2026', 4970),\n",
       " (u'-', 4943),\n",
       " (u'get', 4932),\n",
       " (u'says', 4920),\n",
       " (u'talk', 4876),\n",
       " (u'time', 4827),\n",
       " (u'president', 4743),\n",
       " (u'&amp', 4679),\n",
       " (u'would', 4595),\n",
       " (u'go', 4504),\n",
       " (u'cant', 4352),\n",
       " (u'say', 4350),\n",
       " (u'answer', 4252),\n",
       " (u'right', 4231),\n",
       " (u'watching', 4069),\n",
       " (u'think', 3905),\n",
       " (u'bill', 3768),\n",
       " (u'presidential', 3661),\n",
       " (u'us', 3608),\n",
       " (u'good', 3584),\n",
       " (u'doesnt', 3564),\n",
       " (u'even', 3510),\n",
       " (u'tonight', 3307),\n",
       " (u'anderson', 3275),\n",
       " (u'really', 3197),\n",
       " (u'didnt', 3163),\n",
       " (u'talking', 3104),\n",
       " (u'room', 3002),\n",
       " (u'want', 2969),\n",
       " (u'great', 2967),\n",
       " (u'america', 2955),\n",
       " (u'never', 2938),\n",
       " (u'cooper', 2908),\n",
       " (u'country', 2863),\n",
       " (u'locker', 2803),\n",
       " (u'every', 2802),\n",
       " (u'thats', 2746),\n",
       " (u'make', 2722),\n",
       " (u'hillarys', 2688),\n",
       " (u'man', 2678),\n",
       " (u'words', 2674),\n",
       " (u'sexual', 2656),\n",
       " (u'taxes', 2647),\n",
       " (u'emails', 2597),\n",
       " (u'youre', 2557),\n",
       " (u'questions', 2509),\n",
       " (u'watch', 2481),\n",
       " (u'thing', 2421),\n",
       " (u'assault', 2420),\n",
       " (u'respect', 2406),\n",
       " (u'look', 2367),\n",
       " (u'moderators', 2366),\n",
       " (u'shes', 2351),\n",
       " (u'see', 2346),\n",
       " (u'still', 2341),\n",
       " (u'u', 2329),\n",
       " (u'back', 2309),\n",
       " (u'need', 2304),\n",
       " (u'actually', 2297),\n",
       " (u'please', 2232),\n",
       " (u'saying', 2227),\n",
       " (u'shit', 2223),\n",
       " (u'first', 2222),\n",
       " (u'running', 2182),\n",
       " (u'ever', 2181),\n",
       " (u'take', 2176),\n",
       " (u'live', 2169),\n",
       " (u'let', 2152),\n",
       " (u'much', 2144),\n",
       " (u'fact', 2131),\n",
       " (u'someone', 2121),\n",
       " (u'got', 2114),\n",
       " (u'stop', 2107),\n",
       " (u'bad', 2078),\n",
       " (u'tax', 2068),\n",
       " (u'vote', 2050),\n",
       " (u'russia', 2036),\n",
       " (u'oh', 2032),\n",
       " (u'well', 1983),\n",
       " (u'nothing', 1955),\n",
       " (u'way', 1926),\n",
       " (u'real', 1907)]"
      ]
     },
     "execution_count": 42,
     "metadata": {},
     "output_type": "execute_result"
    }
   ],
   "source": [
    "c.most_common(100)"
   ]
  },
  {
   "cell_type": "code",
   "execution_count": 97,
   "metadata": {
    "collapsed": true
   },
   "outputs": [],
   "source": [
    "df['sexual'] = df.clean_tweets.map(lambda x : 'sexual' in x)\n",
    "df['moderators'] = df.clean_tweets.map(lambda x : 'moderators' in x)\n",
    "df['russia'] = df.clean_tweets.map(lambda x : 'russia' in x)\n",
    "df['emails'] = df.clean_tweets.map(lambda x : 'emails' in x)\n",
    "df['shit'] = df.clean_tweets.map(lambda x : 'shit' in x)\n",
    "df['taxes'] = df.clean_tweets.map(lambda x : 'taxes' in x)\n",
    "df['isis'] = df.clean_tweets.map(lambda x : 'isis' in x)\n",
    "df['america'] = df.clean_tweets.map(lambda x : 'america' in x)"
   ]
  },
  {
   "cell_type": "code",
   "execution_count": 98,
   "metadata": {
    "collapsed": false
   },
   "outputs": [
    {
     "data": {
      "text/plain": [
       "<matplotlib.axes._subplots.AxesSubplot at 0x13f25d290>"
      ]
     },
     "execution_count": 98,
     "metadata": {},
     "output_type": "execute_result"
    },
    {
     "data": {
      "image/png": "[encoded data removed]",
      "text/plain": [
       "<matplotlib.figure.Figure at 0x12b27e050>"
      ]
     },
     "metadata": {},
     "output_type": "display_data"
    }
   ],
   "source": [
    "df.groupby(['hour','min'])['america'].value_counts().unstack().iloc[:,1].fillna(0).plot()"
   ]
  },
  {
   "cell_type": "code",
   "execution_count": 140,
   "metadata": {
    "collapsed": false
   },
   "outputs": [],
   "source": [
    "pos = polarity.positive.as_matrix()\n",
    "neg = polarity.negative.as_matrix()\n",
    "neu = polarity.neutral.as_matrix()"
   ]
  },
  {
   "cell_type": "code",
   "execution_count": 143,
   "metadata": {
    "collapsed": false
   },
   "outputs": [],
   "source": [
    "chart = lineChart(name=\"myChart\", x_is_date=True, date_format=\"%H:%M\")\n",
    "chart.set_graph_width(800)\n",
    "chart.add_serie(y=pos, x=time_index_epoch_ms, name='Positive',color='green')\n",
    "chart.add_serie(y=neg, x=time_index_epoch_ms, name='Negative',color='red')\n",
    "chart.add_serie(y=neu, x=time_index_epoch_ms, name='Neutral',color='blue')\n",
    "\n",
    "chart.buildhtml()\n",
    "\n",
    "f = open('sent.html','wb')\n",
    "f.write(chart.htmlcontent)\n",
    "f.close()"
   ]
  },
  {
   "cell_type": "code",
   "execution_count": 144,
   "metadata": {
    "collapsed": true
   },
   "outputs": [],
   "source": [
    "emails = df.groupby(['hour','min'])['emails'].value_counts().unstack().iloc[:,1].fillna(0)\n",
    "\n",
    "chart = lineChart(name=\"myChart\", x_is_date=True, date_format=\"%H:%M\")\n",
    "chart.set_graph_width(800)\n",
    "chart.add_serie(y=pos, x=time_index_epoch_ms, name='Mentions of \"emails\"',color='red')\n",
    "\n",
    "chart.buildhtml()\n",
    "\n",
    "f = open('emails.html','wb')\n",
    "f.write(chart.htmlcontent)\n",
    "f.close()"
   ]
  },
  {
   "cell_type": "code",
   "execution_count": 99,
   "metadata": {
    "collapsed": false
   },
   "outputs": [
    {
     "data": {
      "text/plain": [
       "hour  min\n",
       "2     18     146\n",
       "1     16     131\n",
       "2     17     127\n",
       "1     17     126\n",
       "2     16     120\n",
       "1     41     116\n",
       "2     19     115\n",
       "      22     111\n",
       "1     45     108\n",
       "      42     103\n",
       "2     21     103\n",
       "      20      94\n",
       "      29      93\n",
       "1     13      92\n",
       "      44      90\n",
       "      9       90\n",
       "2     33      87\n",
       "      25      84\n",
       "      26      84\n",
       "1     8       83\n",
       "      15      82\n",
       "      43      82\n",
       "      19      82\n",
       "      56      82\n",
       "      40      80\n",
       "      14      78\n",
       "      46      78\n",
       "2     27      77\n",
       "      38      77\n",
       "1     27      76\n",
       "            ... \n",
       "      59      55\n",
       "2     0       54\n",
       "      4       53\n",
       "      35      53\n",
       "1     29      53\n",
       "2     28      52\n",
       "1     11      52\n",
       "2     11      52\n",
       "1     37      52\n",
       "2     2       52\n",
       "1     5       52\n",
       "      7       51\n",
       "      21      51\n",
       "      54      51\n",
       "2     31      50\n",
       "      37      50\n",
       "      6       50\n",
       "      12      49\n",
       "1     23      48\n",
       "      33      48\n",
       "      22      47\n",
       "      30      47\n",
       "2     5       47\n",
       "1     25      42\n",
       "2     1       41\n",
       "      10      40\n",
       "      9       36\n",
       "1     6       28\n",
       "      4       16\n",
       "2     40      15\n",
       "Name: True, dtype: int64"
      ]
     },
     "execution_count": 99,
     "metadata": {},
     "output_type": "execute_result"
    }
   ],
   "source": [
    "df.groupby(['hour','min'])['america'].value_counts().unstack().iloc[:,1].fillna(0).sort_values(ascending=False)"
   ]
  },
  {
   "cell_type": "code",
   "execution_count": 100,
   "metadata": {
    "collapsed": false
   },
   "outputs": [
    {
     "data": {
      "text/plain": [
       "[u'So the black man all the question about being devoted to all and he immediately speaks of inner city and Afro American Latinos.. \\n#debate',\n",
       " u'RT @JoyAnnReid: Wow. Trump just said that if he wins, he is going to prosecute his political opponent. Welcome to Third World, America. #de\\u2026',\n",
       " u'RT @WAITAMlN: trump: \"I\\'ll be a good president for the African Americans and Hispanic communities\"\\nboth communities: https://t.co/CtvAuHVfFX',\n",
       " u\"That's right! #StrongerTogether in @HillaryClinton's America. Not so much in his. #imwithher #debate\",\n",
       " u'RT @theyearofelan: Every single person who voted for Trump in the primaries owes everyone else in America an apology',\n",
       " u'RT @dilemmv: \"Africa Americans, inner cities\" Yo\\' dude, Black people live in New Hampshire too dude, foh  #debate',\n",
       " u'RT @FoxNews: .@HillaryClinton: \"I have a deep devotion... to making sure that every American feels like he or she has a place in\\u2026',\n",
       " u\"RT @madisonlawrence: I'll be a president for all of our people except the Muslim people and Mexican people and African American people and\\u2026\",\n",
       " u'I find it really fascinating how many Europeans stay up till 3 AM to watch the American debate',\n",
       " u\"RT @humantransit: Trump's talking to people that think American cities haven't changed since the 1970s.\",\n",
       " u'RT @JTriNguyen: Dear World, I promise you Americans are not complete tools and that this clown Donald Trump does NOT represent who we are.\\u2026',\n",
       " u\"When I want to find someone who understands the plight of African Americans, I don't think of Donald Trump.\",\n",
       " u'RT @nomchompsky: The fact that Trump uses \"African-American\" and \"inner-city\" interchangeably says a whole lot about his understanding of r\\u2026',\n",
       " u'RT @shavarjeffries: When Trump talks about \"The African Americans,\" he reverts to inner cities and poverty.',\n",
       " u\"I do NOT want to live in @realDonaldTrump's America #Debate\"]"
      ]
     },
     "execution_count": 100,
     "metadata": {},
     "output_type": "execute_result"
    }
   ],
   "source": [
    "df[(df.hour == 2) & (df['min'] == 18) & (df.america == True)]['tweets'].sample(frac=0.1).tolist()"
   ]
  },
  {
   "cell_type": "code",
   "execution_count": 95,
   "metadata": {
    "collapsed": false
   },
   "outputs": [
    {
     "data": {
      "text/plain": [
       "[u\"RT @paulkrugman: It's amazing how completely Trump lives in the fever swamps of Breitbart.\",\n",
       " u'RT @davidsirota: Trump is backed by Breitbart and said he hates single payer...but, um... https://t.co/GsbXc3WbEe',\n",
       " u'RT @BDayspring: If HRC was sniffling like Donald Trump is, Breitbart would claim she has Black Lung.',\n",
       " u'RT @elongreen: Hillary Clinton is debating a Breitbart comment.',\n",
       " u'RT @mattmfm: Trump is literally just reading Breitbart blog posts to a live TV audience tonight.',\n",
       " u\"RT @pemalevy: Rather than study for this debate, Trump sounds like he's relying on everything his read on Breitbart in the last few years.\",\n",
       " u'RT @AdrianaCohen16: Hillary Clinton Avoided Taxes the Same Way Trump Did - Breitbart https://t.co/8NUaC9hNGI via @BreitbartNews #debates #T\\u2026',\n",
       " u'RT @goldengateblond: Trump should just preface every answer with \"here are some things I\\'ve read on Breitbart News.\" #debate',\n",
       " u\"#Vintage #Retro #80s Fact-Check: Donald Trump Says Nuclear Deal Hands '$150 Billion' Over to Iran - Breitbart News https://t.co/685HOWcWL8\",\n",
       " u'RT @gauravsabnis: Tomorrow, Breitbart and Fox News will be going absolutely postal on Martha Raddatz for doing her job. #debate',\n",
       " u'RT @Zigmanfreud: Republicans, when we cede our narrative to nut jobs &amp; sell outs like Drudge/Breitbart/Jones/Hannity &amp; the like, this is wh\\u2026',\n",
       " u'***Live Updates*** Trump vs. Hillary, Round Two - Breitbart https://t.co/5joHWhk66V via @BreitbartNews',\n",
       " u'RT @623Sis: Fact-Check: Yes, Bill Clinton Was Disbarred and Fined After Impeachment - Breitbart https://t.co/xZkqUINyRd',\n",
       " u'RT @Stand4Liberty_: Fact-Check: Yes, Bill Clinton Was Disbarred and Fined After Impeachment - Breitbart https://t.co/pUNV4fsaJK via @Breitb\\u2026',\n",
       " u'RT @ariezrawaldman: Donald Trump is a sentient Breitbart comments section #imwithher',\n",
       " u\"RT @gsarnoldjr: #TrumpTrain \\U0001f4a5 BREAKING \\U0001f4a5 CNN Contrib: The Trump Tape Doesn't Matter - Breitbart https://t.co/lJ9okLQeSH\",\n",
       " u'RT @1MMAGC: Wikileaks Release: Hillary Clinton Press Sec Says Gun Control to Be Implemented by Executive Order - Breitbart https://t.co/Xhr\\u2026',\n",
       " u'RT @angela_rye: Again...he only looks at faux polls and Breitbart data. #debates2016 https://t.co/rwy2xBGEci',\n",
       " u'RT @mcuban: If you get your news from inside the Breitbart echo chamber,you think trump won. Everyone else is wondering what the hell he wa\\u2026',\n",
       " u'RT @Johngcole: There\\u2019s some positive news from the debate.\\n\\nScalia\\u2019s still as dead as Breitbart.  So we got that going for us.',\n",
       " u'RT @mcuban: If you get your news from inside the Breitbart echo chamber,you think trump won. Everyone else is wondering what the hell he wa\\u2026',\n",
       " u'RT @angela_rye: Again...he only looks at faux polls and Breitbart data. #debates2016 https://t.co/rwy2xBGEci',\n",
       " u'a.k.a. the Breitbart comments section. https://t.co/1zCnzow3Gv',\n",
       " u'RT @Charlie4Trump: #Debates #HillaryClinton #2ndAmendment\\nHillary Clinton Outlines Plan to Abolish the Second Amendment - Breitbart https:/\\u2026',\n",
       " u'RT @mcuban: If you get your news from inside the Breitbart echo chamber,you think trump won. Everyone else is wondering what the hell he wa\\u2026',\n",
       " u'RT @iluvspringtime: Breaking! Juanita Broderick\\u2019s Breitbart Interview Just Ended Hillary\\u2019s Campaign https://t.co/nMrt2fGagw',\n",
       " u'RT @mcuban: If you get your news from inside the Breitbart echo chamber,you think trump won. Everyone else is wondering what the hell he wa\\u2026',\n",
       " u'#ednews DianeRavitch-- RT mcuban: If you get your news from inside the Breitbart echo chamber,you think trump won. Everyone else is wonderi\\u2026',\n",
       " u'RT @risetoflyy: Chinese Government Paid Bill Clinton Massive Speaking Fee 10 Days Before Hillary Made \\u2018Asia Pivot\\u2019 - Breitbart https://t.co\\u2026',\n",
       " u'RT @mgrier1: Donald Trump: Welcome Back, Ronald Reagan - Breitbart https://t.co/9fMci5wlzx',\n",
       " u\"BreitbartNews: Preview of Hillary's America. #debate https://t.co/pI6SsPLr4V\",\n",
       " u'RT @JayS2629: Wikileaks Reveals Hillary Lied About Marines Rejecting Her Because She Was a Woman - Breitbart https://t.co/H3nx9v2qHU via @B\\u2026',\n",
       " u'RT @RiskyLiberal: Trump is repeating Breitbart talking points right now. Bill CLINTON IS NOT RUNNING FOR PRESIDENT',\n",
       " u\"Because the media didn't do its job. Complain to Breitbart. https://t.co/nQUgzziQSV\",\n",
       " u'RT @Zigmanfreud: Republicans, when we cede our narrative to nut jobs &amp; sell outs like Drudge/Breitbart/Jones/Hannity &amp; the like, this is wh\\u2026',\n",
       " u\"RT @paulkrugman: It's amazing how completely Trump lives in the fever swamps of Breitbart.\",\n",
       " u\"RT @RosieGray: he's talking about Sidney Blumenthal. they should just call this debate Breitbart Live.\",\n",
       " u'RT @elongreen: Hillary Clinton is debating a Breitbart comment.',\n",
       " u'RT @rebeccagberg: This is incredible. We are seeing Breitbart let loose on a presidential debate stage.',\n",
       " u\"RT @JoshuaGreen: Trump is basically reading out a year's worth of Breitbart News headlines.\",\n",
       " u'RT @RexHuppke: Trump sounds like a Breitbart comments section that just did a kilo of blow. #debates',\n",
       " u\"RT @jteeDC: This isn't Trump. This is Bannon. This is 100% Breitbart comments section. #debate\",\n",
       " u'RT @DKThomp: donald trump is reciting from memory the third page of a breitbart comments section he read this afternoon',\n",
       " u'So how is running a campaign Breitbart/Drudge style working for Trump tonight? #debate',\n",
       " u'RT @billbong9059: Poll: Republican Voters Ready to Stand by Trump Despite Lewd Comments Video - Breitbart https://t.co/zSUbTucZpv',\n",
       " u'RT @ObsoleteDogma: Trump going full Breitbart. This is playing really, really well in the alternative realty that is the right-wing bubble.',\n",
       " u\"RT @paulkrugman: It's amazing how completely Trump lives in the fever swamps of Breitbart.\",\n",
       " u'RT @rebeccagberg: This is incredible. We are seeing Breitbart let loose on a presidential debate stage.',\n",
       " u'RT @russbengtson: Hillary Clinton is debating Breitbart and Alex Jones.',\n",
       " u'Trump is the deranged fact-free paranoid conspiratorial worldview one gets from mainlining Fox news and Breitbart.\\n\\n#DebateNight',\n",
       " u'RT @StacyandBrad: #debate, #BigleagueTruth Exclusive\\u2014 Martha Raddatz Covered Up ACORN Scandal Before 2008 Election - Breitbart https://t.co\\u2026',\n",
       " u\"RT @TheRaytedex: WIKILEAKS DUMP: In Private, Hillary Claims Laws to Fix Gender Pay Gap Are 'Already On The Books' - Breitbart https://t.co/\\u2026\",\n",
       " u'RT @RexHuppke: Trump sounds like a Breitbart comments section that just did a kilo of blow. #debates',\n",
       " u'RT @mathewi: Trump is basically just reading a script from Breitbart News now',\n",
       " u'RT @mattkatz00: \"Sidney Blumenthal\"--Trump\\'s shorthand for these scandals is incomprehensible to most people. He\\'s speaking to Breitbart re\\u2026',\n",
       " u'RT @RexHuppke: Trump sounds like a Breitbart comments section that just did a kilo of blow. #debates',\n",
       " u\"RT @paulkrugman: It's amazing how completely Trump lives in the fever swamps of Breitbart.\",\n",
       " u\"RT @RosieGray: he's talking about Sidney Blumenthal. they should just call this debate Breitbart Live.\",\n",
       " u\"RT @WashingtonDCTea: #Debate@HillaryClinton Slate: Juanita Broaddrick's Rape Allegations Against Bill Clinton \\u2018Credible\\u2019 - Breitbart https:\\u2026\",\n",
       " u'RT @dpeloff: Breitbart: @realDonaldTrump sniffle problem way beyond normal. Nose STD? Please investigate. #debate',\n",
       " u'Any time Trump is supposed to describe his policies, he instead just rants on a series of conspiracies off of Breitbart',\n",
       " u'Donald Trump has officially transitioned for a Fox News base to a Breitbart and Info Wars base.',\n",
       " u'Trump is basically a Breitbart comments section come to life.  No policy plans, only one-liners and snark.  Sad!',\n",
       " u'JONATHAN GRUBER WHO HAD JONATHAN GRUBER ON THEIR BREITBART BINGO #Debates2016 #debate',\n",
       " u'RT @ObsoleteDogma: Trump is basically reciting Breitbart\\u2019s greatest hits from the last 8 years.',\n",
       " u\"RT @Path2Enlighten: Trump is speaking Breitbartian, the rest of America is scratching their heads wondering WTF he's talking about. #Debate\\u2026\",\n",
       " u'RT @davidsirota: Trump is backed by Breitbart and said he hates single payer...but, um... https://t.co/GsbXc3WbEe',\n",
       " u'RT @TheRework: Sleaze ball move from gossip Breitbart Bannon Trump to deflect from his troubles. #GutterTrump #debate https://t.co/HBE1mRit\\u2026',\n",
       " u'RT @rebeccagberg: This is incredible. We are seeing Breitbart let loose on a presidential debate stage.',\n",
       " u'RT @goldengateblond: Trump should just preface every answer with \"here are some things I\\'ve read on Breitbart News.\" #debate',\n",
       " u'If HRC was sniffling like Donald Trump is, Breitbart would claim she has Black Lung.',\n",
       " u'(Breitbart says Trump is dominating) https://t.co/LrkJek9meZ',\n",
       " u\"RT @paulkrugman: It's amazing how completely Trump lives in the fever swamps of Breitbart.\",\n",
       " u'RT @adamslily: Compare these answers. One candidate shows empathy &amp; gives substance. The other yells Breitbart headlines at a voter. #debate',\n",
       " u'L.A. Times Tracking Poll: Trump Leads Clinton 5.6 Percent After First Debate - Breitbart https://t.co/YJq1DfbNmH via @BreitbartNews',\n",
       " u'RT @CharMckenney: Republican Voters Ready to Stand by Trump Despite Video - Breitbart https://t.co/T2lCHazG5W via @BreitbartNews @mitchellv\\u2026',\n",
       " u'RT @rebeccagberg: This is incredible. We are seeing Breitbart let loose on a presidential debate stage.',\n",
       " u'RT @goldengateblond: Trump should just preface every answer with \"here are some things I\\'ve read on Breitbart News.\" #debate',\n",
       " u\"RT @TheTawniest: Trump's a walking Breitbart page. #debates\",\n",
       " u'Donald \"My daily briefings from Breitbart\" Trump',\n",
       " u'RT @BDayspring: If HRC was sniffling like Donald Trump is, Breitbart would claim she has Black Lung.',\n",
       " u'RT @BDayspring: If HRC was sniffling like Donald Trump is, Breitbart would claim she has Black Lung.',\n",
       " u'RT @IMHObyJJ: UPI Poll: Donald Trump +2 over Hillary Clinton, Nears 50 Percent Support - Breitbart https://t.co/rWDkQ2LbPb #TrumpPence16 #D\\u2026',\n",
       " u\"RT @peterdaou: Anyone who has heard Coulter, Hannity, Drudge, Savage, Limbaugh, Breitbart over the years can't possibly be surprised by Tru\\u2026\",\n",
       " u'RT @Stand4Liberty_: Fact-Check: Yes, Bill Clinton Was Disbarred and Fined After Impeachment - Breitbart https://t.co/pUNV4fsaJK via @Breitb\\u2026',\n",
       " u'ABC Debate Moderator Martha Raddatz Had Obama at Her Wedding - Breitbart https://t.co/l69NTLzAIV']"
      ]
     },
     "execution_count": 95,
     "metadata": {},
     "output_type": "execute_result"
    }
   ],
   "source": [
    "df[df.breitbart == True].tweets.tolist()"
   ]
  },
  {
   "cell_type": "code",
   "execution_count": 104,
   "metadata": {
    "collapsed": false
   },
   "outputs": [],
   "source": [
    "with_pos = df[df.lat.notnull()]"
   ]
  },
  {
   "cell_type": "code",
   "execution_count": 105,
   "metadata": {
    "collapsed": false
   },
   "outputs": [
    {
     "data": {
      "text/html": [
       "<div>\n",
       "<table border=\"1\" class=\"dataframe\">\n",
       "  <thead>\n",
       "    <tr style=\"text-align: right;\">\n",
       "      <th></th>\n",
       "      <th>neagative</th>\n",
       "      <th>neutral</th>\n",
       "      <th>positive</th>\n",
       "    </tr>\n",
       "  </thead>\n",
       "  <tbody>\n",
       "    <tr>\n",
       "      <th>2016-09-10 21:00:00</th>\n",
       "      <td>2.0</td>\n",
       "      <td>20.0</td>\n",
       "      <td>2.0</td>\n",
       "    </tr>\n",
       "    <tr>\n",
       "      <th>2016-09-10 21:01:00</th>\n",
       "      <td>12.0</td>\n",
       "      <td>99.0</td>\n",
       "      <td>8.0</td>\n",
       "    </tr>\n",
       "    <tr>\n",
       "      <th>2016-09-10 21:02:00</th>\n",
       "      <td>10.0</td>\n",
       "      <td>86.0</td>\n",
       "      <td>8.0</td>\n",
       "    </tr>\n",
       "    <tr>\n",
       "      <th>2016-09-10 21:03:00</th>\n",
       "      <td>2.0</td>\n",
       "      <td>86.0</td>\n",
       "      <td>9.0</td>\n",
       "    </tr>\n",
       "    <tr>\n",
       "      <th>2016-09-10 21:04:00</th>\n",
       "      <td>1.0</td>\n",
       "      <td>93.0</td>\n",
       "      <td>9.0</td>\n",
       "    </tr>\n",
       "  </tbody>\n",
       "</table>\n",
       "</div>"
      ],
      "text/plain": [
       "                     neagative  neutral  positive\n",
       "2016-09-10 21:00:00        2.0     20.0       2.0\n",
       "2016-09-10 21:01:00       12.0     99.0       8.0\n",
       "2016-09-10 21:02:00       10.0     86.0       8.0\n",
       "2016-09-10 21:03:00        2.0     86.0       9.0\n",
       "2016-09-10 21:04:00        1.0     93.0       9.0"
      ]
     },
     "execution_count": 105,
     "metadata": {},
     "output_type": "execute_result"
    }
   ],
   "source": [
    "polarity = with_pos.groupby(['hour','min'])['polarity'].value_counts().unstack()\n",
    "polarity = polarity.reset_index().drop(['hour','min'],axis=1)\n",
    "\n",
    "time_index =  pd.date_range('2016-09-10 21:00:00', periods=len(polarity), freq='min')\n",
    "time_index_epoch_ms = [int(x.strftime(\"%s\"))*1000 for x in time_index]\n",
    "\n",
    "polarity = polarity.set_index(time_index)\n",
    "polarity.columns = ['neagative','neutral','positive']\n",
    "polarity.head()"
   ]
  },
  {
   "cell_type": "code",
   "execution_count": 108,
   "metadata": {
    "collapsed": false
   },
   "outputs": [
    {
     "data": {
      "text/plain": [
       "<matplotlib.axes._subplots.AxesSubplot at 0x131938350>"
      ]
     },
     "execution_count": 108,
     "metadata": {},
     "output_type": "execute_result"
    },
    {
     "data": {
      "image/png": "[encoded data removed]",
      "text/plain": [
       "<matplotlib.figure.Figure at 0x131938a10>"
      ]
     },
     "metadata": {},
     "output_type": "display_data"
    }
   ],
   "source": [
    "polarity[['neagative','positive']].plot()"
   ]
  },
  {
   "cell_type": "code",
   "execution_count": 112,
   "metadata": {
    "collapsed": false
   },
   "outputs": [
    {
     "data": {
      "text/plain": [
       "10                [Baton Rouge,  LA]\n",
       "73                     [Lyndon,  KY]\n",
       "91               [Farmingville,  NY]\n",
       "95                    [Meriden,  CT]\n",
       "152                   [Vinings,  GA]\n",
       "179                 [St Helena,  CA]\n",
       "182       [Sydney,  New South Wales]\n",
       "186               [Minneapolis,  MN]\n",
       "201                 [Watertown,  MA]\n",
       "228              [Wade Hampton,  SC]\n",
       "249                   [Atlanta,  GA]\n",
       "293                    [Boston,  MA]\n",
       "312            [West Virginia,  USA]\n",
       "313                    [Denver,  CO]\n",
       "339           [Doctor Phillips,  FL]\n",
       "340                 [Annapolis,  MD]\n",
       "360            [Massachusetts,  USA]\n",
       "369                   [Fremont,  CA]\n",
       "462               [Lenoir City,  TN]\n",
       "479                [Bridgeport,  CT]\n",
       "525                    [Steele,  MO]\n",
       "637                [Washington,  DC]\n",
       "645                 [Glassboro,  NJ]\n",
       "657                   [St Paul,  MN]\n",
       "671                     [Lyman,  SC]\n",
       "678                 [Virginia,  USA]\n",
       "690                  [St Louis,  MO]\n",
       "733              [Four Corners,  TX]\n",
       "783          [Town 'n' Country,  FL]\n",
       "814            [Mount Pleasant,  MI]\n",
       "                     ...            \n",
       "186231              [Iowa City,  IA]\n",
       "186253        [East Massapequa,  NY]\n",
       "186286                [Mission,  KS]\n",
       "186316               [Columbus,  OH]\n",
       "186333            [New Orleans,  LA]\n",
       "186373                [Poá,  Brasil]\n",
       "186374            [Glen Burnie,  MD]\n",
       "186422          [San Francisco,  CA]\n",
       "186429             [Cincinnati,  OH]\n",
       "186434                [Chicago,  IL]\n",
       "186457                [Memphis,  TN]\n",
       "186464          [San Francisco,  CA]\n",
       "186476             [Greensboro,  NC]\n",
       "186502           [Happy Valley,  OR]\n",
       "186528             [Washington,  DC]\n",
       "186538          [Pennsylvania,  USA]\n",
       "186542               [Brooklyn,  NY]\n",
       "186544             [St Andrews,  SC]\n",
       "186576               [Brooklyn,  NY]\n",
       "186604              [Knoxville,  TN]\n",
       "186614             [Bellingham,  MA]\n",
       "186687     [Sungai Buloh,  Selangor]\n",
       "186691            [Ottawa,  Ontario]\n",
       "186720          [Lake Barcroft,  VA]\n",
       "186735              [Kentucky,  USA]\n",
       "186766                  [Atlanta GA]\n",
       "186769              [New York,  USA]\n",
       "186830                [Yonkers,  NY]\n",
       "186861                [Spokane,  WA]\n",
       "186867                 [Queens,  NY]\n",
       "Name: place_names, dtype: object"
      ]
     },
     "execution_count": 112,
     "metadata": {},
     "output_type": "execute_result"
    }
   ],
   "source": [
    "with_pos.place_names.map(lambda x : x.split(','))"
   ]
  },
  {
   "cell_type": "code",
   "execution_count": 113,
   "metadata": {
    "collapsed": true
   },
   "outputs": [],
   "source": [
    "from geopy.geocoders import Nominatim"
   ]
  },
  {
   "cell_type": "code",
   "execution_count": 114,
   "metadata": {
    "collapsed": true
   },
   "outputs": [],
   "source": [
    "geolocator = Nominatim()"
   ]
  },
  {
   "cell_type": "code",
   "execution_count": 115,
   "metadata": {
    "collapsed": true
   },
   "outputs": [],
   "source": [
    "location = geolocator.reverse(\"52.509669, 13.376294\")"
   ]
  },
  {
   "cell_type": "code",
   "execution_count": 116,
   "metadata": {
    "collapsed": false
   },
   "outputs": [
    {
     "data": {
      "text/plain": [
       "Location((52.5094982, 13.3765983, 0.0))"
      ]
     },
     "execution_count": 116,
     "metadata": {},
     "output_type": "execute_result"
    }
   ],
   "source": [
    "location"
   ]
  },
  {
   "cell_type": "code",
   "execution_count": 117,
   "metadata": {
    "collapsed": false
   },
   "outputs": [
    {
     "data": {
      "text/plain": [
       "u'Potsdamer Platz, Mitte, Berlin, 10117, Deutschland'"
      ]
     },
     "execution_count": 117,
     "metadata": {},
     "output_type": "execute_result"
    }
   ],
   "source": [
    "location.address"
   ]
  },
  {
   "cell_type": "code",
   "execution_count": 134,
   "metadata": {
    "collapsed": false
   },
   "outputs": [
    {
     "data": {
      "text/plain": [
       "'33.7671945, -84.433106'"
      ]
     },
     "execution_count": 134,
     "metadata": {},
     "output_type": "execute_result"
    }
   ],
   "source": [
    "', '.join([str(with_pos.iloc[10,:].lat),str(with_pos.iloc[10,:].long)])"
   ]
  },
  {
   "cell_type": "code",
   "execution_count": 135,
   "metadata": {
    "collapsed": false
   },
   "outputs": [],
   "source": [
    "location = geolocator.reverse(_)"
   ]
  },
  {
   "cell_type": "code",
   "execution_count": 136,
   "metadata": {
    "collapsed": false
   },
   "outputs": [
    {
     "data": {
      "text/plain": [
       "u'Georgia'"
      ]
     },
     "execution_count": 136,
     "metadata": {},
     "output_type": "execute_result"
    }
   ],
   "source": [
    "location.raw['address']['state']"
   ]
  },
  {
   "cell_type": "code",
   "execution_count": 137,
   "metadata": {
    "collapsed": false
   },
   "outputs": [
    {
     "data": {
      "text/plain": [
       "clean_tweets    is dude even answering the question at all gah...\n",
       "dates                                               1476061766687\n",
       "hour                                                            1\n",
       "index                                                        2090\n",
       "lat                                                       33.7672\n",
       "long                                                     -84.4331\n",
       "min                                                             9\n",
       "place_names                                           Atlanta, GA\n",
       "polarity                                                        2\n",
       "polarity_cl                                                     0\n",
       "tweets          Is dude even answering the question? At all? G...\n",
       "sexual                                                      False\n",
       "moderators                                                  False\n",
       "russia                                                      False\n",
       "emails                                                      False\n",
       "shit                                                        False\n",
       "taxes                                                       False\n",
       "isis                                                        False\n",
       "swamp                                                       False\n",
       "breitbart                                                   False\n",
       "america                                                     False\n",
       "Name: 249, dtype: object"
      ]
     },
     "execution_count": 137,
     "metadata": {},
     "output_type": "execute_result"
    }
   ],
   "source": [
    "with_pos.iloc[10,:]"
   ]
  },
  {
   "cell_type": "code",
   "execution_count": 145,
   "metadata": {
    "collapsed": false
   },
   "outputs": [
    {
     "data": {
      "text/plain": [
       "7404"
      ]
     },
     "execution_count": 145,
     "metadata": {},
     "output_type": "execute_result"
    }
   ],
   "source": [
    "len(with_pos)"
   ]
  },
  {
   "cell_type": "code",
   "execution_count": 248,
   "metadata": {
    "collapsed": false
   },
   "outputs": [
    {
     "ename": "KeyboardInterrupt",
     "evalue": "",
     "output_type": "error",
     "traceback": [
      "\u001b[0;31m---------------------------------------------------------------------------\u001b[0m",
      "\u001b[0;31mKeyboardInterrupt\u001b[0m                         Traceback (most recent call last)",
      "\u001b[0;32m<ipython-input-248-7f2b670c6eee>\u001b[0m in \u001b[0;36m<module>\u001b[0;34m()\u001b[0m\n\u001b[1;32m      1\u001b[0m \u001b[0mpos\u001b[0m \u001b[0;34m=\u001b[0m \u001b[0mwith_pos\u001b[0m\u001b[0;34m[\u001b[0m\u001b[0;34m[\u001b[0m\u001b[0;34m'lat'\u001b[0m\u001b[0;34m,\u001b[0m\u001b[0;34m'long'\u001b[0m\u001b[0;34m]\u001b[0m\u001b[0;34m]\u001b[0m\u001b[0;34m.\u001b[0m\u001b[0mas_matrix\u001b[0m\u001b[0;34m(\u001b[0m\u001b[0;34m)\u001b[0m\u001b[0;34m\u001b[0m\u001b[0m\n\u001b[1;32m      2\u001b[0m \u001b[0mpos\u001b[0m \u001b[0;34m=\u001b[0m \u001b[0;34m[\u001b[0m\u001b[0;34m', '\u001b[0m\u001b[0;34m.\u001b[0m\u001b[0mjoin\u001b[0m\u001b[0;34m(\u001b[0m\u001b[0;34m[\u001b[0m\u001b[0mstr\u001b[0m\u001b[0;34m(\u001b[0m\u001b[0mp\u001b[0m\u001b[0;34m[\u001b[0m\u001b[0;36m0\u001b[0m\u001b[0;34m]\u001b[0m\u001b[0;34m)\u001b[0m\u001b[0;34m,\u001b[0m\u001b[0mstr\u001b[0m\u001b[0;34m(\u001b[0m\u001b[0mp\u001b[0m\u001b[0;34m[\u001b[0m\u001b[0;36m1\u001b[0m\u001b[0;34m]\u001b[0m\u001b[0;34m)\u001b[0m\u001b[0;34m]\u001b[0m\u001b[0;34m)\u001b[0m \u001b[0;32mfor\u001b[0m \u001b[0mp\u001b[0m \u001b[0;32min\u001b[0m \u001b[0mpos\u001b[0m\u001b[0;34m]\u001b[0m\u001b[0;34m\u001b[0m\u001b[0m\n\u001b[0;32m----> 3\u001b[0;31m \u001b[0mpos\u001b[0m \u001b[0;34m=\u001b[0m \u001b[0;34m[\u001b[0m\u001b[0mgeolocator\u001b[0m\u001b[0;34m.\u001b[0m\u001b[0mreverse\u001b[0m\u001b[0;34m(\u001b[0m\u001b[0mp\u001b[0m\u001b[0;34m)\u001b[0m \u001b[0;32mfor\u001b[0m \u001b[0mp\u001b[0m \u001b[0;32min\u001b[0m \u001b[0mpos\u001b[0m\u001b[0;34m]\u001b[0m\u001b[0;34m\u001b[0m\u001b[0m\n\u001b[0m",
      "\u001b[0;32m/Users/joshua/anaconda/lib/python2.7/site-packages/geopy/geocoders/osm.pyc\u001b[0m in \u001b[0;36mreverse\u001b[0;34m(self, query, exactly_one, timeout, language)\u001b[0m\n\u001b[1;32m    246\u001b[0m         \u001b[0mlogger\u001b[0m\u001b[0;34m.\u001b[0m\u001b[0mdebug\u001b[0m\u001b[0;34m(\u001b[0m\u001b[0;34m\"%s.reverse: %s\"\u001b[0m\u001b[0;34m,\u001b[0m \u001b[0mself\u001b[0m\u001b[0;34m.\u001b[0m\u001b[0m__class__\u001b[0m\u001b[0;34m.\u001b[0m\u001b[0m__name__\u001b[0m\u001b[0;34m,\u001b[0m \u001b[0murl\u001b[0m\u001b[0;34m)\u001b[0m\u001b[0;34m\u001b[0m\u001b[0m\n\u001b[1;32m    247\u001b[0m         return self._parse_json(\n\u001b[0;32m--> 248\u001b[0;31m             \u001b[0mself\u001b[0m\u001b[0;34m.\u001b[0m\u001b[0m_call_geocoder\u001b[0m\u001b[0;34m(\u001b[0m\u001b[0murl\u001b[0m\u001b[0;34m,\u001b[0m \u001b[0mtimeout\u001b[0m\u001b[0;34m=\u001b[0m\u001b[0mtimeout\u001b[0m\u001b[0;34m)\u001b[0m\u001b[0;34m,\u001b[0m \u001b[0mexactly_one\u001b[0m\u001b[0;34m\u001b[0m\u001b[0m\n\u001b[0m\u001b[1;32m    249\u001b[0m         )\n\u001b[1;32m    250\u001b[0m \u001b[0;34m\u001b[0m\u001b[0m\n",
      "\u001b[0;32m/Users/joshua/anaconda/lib/python2.7/site-packages/geopy/geocoders/base.pyc\u001b[0m in \u001b[0;36m_call_geocoder\u001b[0;34m(self, url, timeout, raw, requester, deserializer, **kwargs)\u001b[0m\n\u001b[1;32m    141\u001b[0m \u001b[0;34m\u001b[0m\u001b[0m\n\u001b[1;32m    142\u001b[0m         \u001b[0;32mtry\u001b[0m\u001b[0;34m:\u001b[0m\u001b[0;34m\u001b[0m\u001b[0m\n\u001b[0;32m--> 143\u001b[0;31m             \u001b[0mpage\u001b[0m \u001b[0;34m=\u001b[0m \u001b[0mrequester\u001b[0m\u001b[0;34m(\u001b[0m\u001b[0mreq\u001b[0m\u001b[0;34m,\u001b[0m \u001b[0mtimeout\u001b[0m\u001b[0;34m=\u001b[0m\u001b[0;34m(\u001b[0m\u001b[0mtimeout\u001b[0m \u001b[0;32mor\u001b[0m \u001b[0mself\u001b[0m\u001b[0;34m.\u001b[0m\u001b[0mtimeout\u001b[0m\u001b[0;34m)\u001b[0m\u001b[0;34m,\u001b[0m \u001b[0;34m**\u001b[0m\u001b[0mkwargs\u001b[0m\u001b[0;34m)\u001b[0m\u001b[0;34m\u001b[0m\u001b[0m\n\u001b[0m\u001b[1;32m    144\u001b[0m         \u001b[0;32mexcept\u001b[0m \u001b[0mException\u001b[0m \u001b[0;32mas\u001b[0m \u001b[0merror\u001b[0m\u001b[0;34m:\u001b[0m \u001b[0;31m# pylint: disable=W0703\u001b[0m\u001b[0;34m\u001b[0m\u001b[0m\n\u001b[1;32m    145\u001b[0m             message = (\n",
      "\u001b[0;32m/Users/joshua/anaconda/lib/python2.7/urllib2.pyc\u001b[0m in \u001b[0;36murlopen\u001b[0;34m(url, data, timeout, cafile, capath, cadefault, context)\u001b[0m\n\u001b[1;32m    152\u001b[0m     \u001b[0;32melse\u001b[0m\u001b[0;34m:\u001b[0m\u001b[0;34m\u001b[0m\u001b[0m\n\u001b[1;32m    153\u001b[0m         \u001b[0mopener\u001b[0m \u001b[0;34m=\u001b[0m \u001b[0m_opener\u001b[0m\u001b[0;34m\u001b[0m\u001b[0m\n\u001b[0;32m--> 154\u001b[0;31m     \u001b[0;32mreturn\u001b[0m \u001b[0mopener\u001b[0m\u001b[0;34m.\u001b[0m\u001b[0mopen\u001b[0m\u001b[0;34m(\u001b[0m\u001b[0murl\u001b[0m\u001b[0;34m,\u001b[0m \u001b[0mdata\u001b[0m\u001b[0;34m,\u001b[0m \u001b[0mtimeout\u001b[0m\u001b[0;34m)\u001b[0m\u001b[0;34m\u001b[0m\u001b[0m\n\u001b[0m\u001b[1;32m    155\u001b[0m \u001b[0;34m\u001b[0m\u001b[0m\n\u001b[1;32m    156\u001b[0m \u001b[0;32mdef\u001b[0m \u001b[0minstall_opener\u001b[0m\u001b[0;34m(\u001b[0m\u001b[0mopener\u001b[0m\u001b[0;34m)\u001b[0m\u001b[0;34m:\u001b[0m\u001b[0;34m\u001b[0m\u001b[0m\n",
      "\u001b[0;32m/Users/joshua/anaconda/lib/python2.7/urllib2.pyc\u001b[0m in \u001b[0;36mopen\u001b[0;34m(self, fullurl, data, timeout)\u001b[0m\n\u001b[1;32m    429\u001b[0m             \u001b[0mreq\u001b[0m \u001b[0;34m=\u001b[0m \u001b[0mmeth\u001b[0m\u001b[0;34m(\u001b[0m\u001b[0mreq\u001b[0m\u001b[0;34m)\u001b[0m\u001b[0;34m\u001b[0m\u001b[0m\n\u001b[1;32m    430\u001b[0m \u001b[0;34m\u001b[0m\u001b[0m\n\u001b[0;32m--> 431\u001b[0;31m         \u001b[0mresponse\u001b[0m \u001b[0;34m=\u001b[0m \u001b[0mself\u001b[0m\u001b[0;34m.\u001b[0m\u001b[0m_open\u001b[0m\u001b[0;34m(\u001b[0m\u001b[0mreq\u001b[0m\u001b[0;34m,\u001b[0m \u001b[0mdata\u001b[0m\u001b[0;34m)\u001b[0m\u001b[0;34m\u001b[0m\u001b[0m\n\u001b[0m\u001b[1;32m    432\u001b[0m \u001b[0;34m\u001b[0m\u001b[0m\n\u001b[1;32m    433\u001b[0m         \u001b[0;31m# post-process response\u001b[0m\u001b[0;34m\u001b[0m\u001b[0;34m\u001b[0m\u001b[0m\n",
      "\u001b[0;32m/Users/joshua/anaconda/lib/python2.7/urllib2.pyc\u001b[0m in \u001b[0;36m_open\u001b[0;34m(self, req, data)\u001b[0m\n\u001b[1;32m    447\u001b[0m         \u001b[0mprotocol\u001b[0m \u001b[0;34m=\u001b[0m \u001b[0mreq\u001b[0m\u001b[0;34m.\u001b[0m\u001b[0mget_type\u001b[0m\u001b[0;34m(\u001b[0m\u001b[0;34m)\u001b[0m\u001b[0;34m\u001b[0m\u001b[0m\n\u001b[1;32m    448\u001b[0m         result = self._call_chain(self.handle_open, protocol, protocol +\n\u001b[0;32m--> 449\u001b[0;31m                                   '_open', req)\n\u001b[0m\u001b[1;32m    450\u001b[0m         \u001b[0;32mif\u001b[0m \u001b[0mresult\u001b[0m\u001b[0;34m:\u001b[0m\u001b[0;34m\u001b[0m\u001b[0m\n\u001b[1;32m    451\u001b[0m             \u001b[0;32mreturn\u001b[0m \u001b[0mresult\u001b[0m\u001b[0;34m\u001b[0m\u001b[0m\n",
      "\u001b[0;32m/Users/joshua/anaconda/lib/python2.7/urllib2.pyc\u001b[0m in \u001b[0;36m_call_chain\u001b[0;34m(self, chain, kind, meth_name, *args)\u001b[0m\n\u001b[1;32m    407\u001b[0m             \u001b[0mfunc\u001b[0m \u001b[0;34m=\u001b[0m \u001b[0mgetattr\u001b[0m\u001b[0;34m(\u001b[0m\u001b[0mhandler\u001b[0m\u001b[0;34m,\u001b[0m \u001b[0mmeth_name\u001b[0m\u001b[0;34m)\u001b[0m\u001b[0;34m\u001b[0m\u001b[0m\n\u001b[1;32m    408\u001b[0m \u001b[0;34m\u001b[0m\u001b[0m\n\u001b[0;32m--> 409\u001b[0;31m             \u001b[0mresult\u001b[0m \u001b[0;34m=\u001b[0m \u001b[0mfunc\u001b[0m\u001b[0;34m(\u001b[0m\u001b[0;34m*\u001b[0m\u001b[0margs\u001b[0m\u001b[0;34m)\u001b[0m\u001b[0;34m\u001b[0m\u001b[0m\n\u001b[0m\u001b[1;32m    410\u001b[0m             \u001b[0;32mif\u001b[0m \u001b[0mresult\u001b[0m \u001b[0;32mis\u001b[0m \u001b[0;32mnot\u001b[0m \u001b[0mNone\u001b[0m\u001b[0;34m:\u001b[0m\u001b[0;34m\u001b[0m\u001b[0m\n\u001b[1;32m    411\u001b[0m                 \u001b[0;32mreturn\u001b[0m \u001b[0mresult\u001b[0m\u001b[0;34m\u001b[0m\u001b[0m\n",
      "\u001b[0;32m/Users/joshua/anaconda/lib/python2.7/urllib2.pyc\u001b[0m in \u001b[0;36mhttps_open\u001b[0;34m(self, req)\u001b[0m\n\u001b[1;32m   1238\u001b[0m         \u001b[0;32mdef\u001b[0m \u001b[0mhttps_open\u001b[0m\u001b[0;34m(\u001b[0m\u001b[0mself\u001b[0m\u001b[0;34m,\u001b[0m \u001b[0mreq\u001b[0m\u001b[0;34m)\u001b[0m\u001b[0;34m:\u001b[0m\u001b[0;34m\u001b[0m\u001b[0m\n\u001b[1;32m   1239\u001b[0m             return self.do_open(httplib.HTTPSConnection, req,\n\u001b[0;32m-> 1240\u001b[0;31m                 context=self._context)\n\u001b[0m\u001b[1;32m   1241\u001b[0m \u001b[0;34m\u001b[0m\u001b[0m\n\u001b[1;32m   1242\u001b[0m         \u001b[0mhttps_request\u001b[0m \u001b[0;34m=\u001b[0m \u001b[0mAbstractHTTPHandler\u001b[0m\u001b[0;34m.\u001b[0m\u001b[0mdo_request_\u001b[0m\u001b[0;34m\u001b[0m\u001b[0m\n",
      "\u001b[0;32m/Users/joshua/anaconda/lib/python2.7/urllib2.pyc\u001b[0m in \u001b[0;36mdo_open\u001b[0;34m(self, http_class, req, **http_conn_args)\u001b[0m\n\u001b[1;32m   1198\u001b[0m         \u001b[0;32melse\u001b[0m\u001b[0;34m:\u001b[0m\u001b[0;34m\u001b[0m\u001b[0m\n\u001b[1;32m   1199\u001b[0m             \u001b[0;32mtry\u001b[0m\u001b[0;34m:\u001b[0m\u001b[0;34m\u001b[0m\u001b[0m\n\u001b[0;32m-> 1200\u001b[0;31m                 \u001b[0mr\u001b[0m \u001b[0;34m=\u001b[0m \u001b[0mh\u001b[0m\u001b[0;34m.\u001b[0m\u001b[0mgetresponse\u001b[0m\u001b[0;34m(\u001b[0m\u001b[0mbuffering\u001b[0m\u001b[0;34m=\u001b[0m\u001b[0mTrue\u001b[0m\u001b[0;34m)\u001b[0m\u001b[0;34m\u001b[0m\u001b[0m\n\u001b[0m\u001b[1;32m   1201\u001b[0m             \u001b[0;32mexcept\u001b[0m \u001b[0mTypeError\u001b[0m\u001b[0;34m:\u001b[0m \u001b[0;31m# buffering kw not supported\u001b[0m\u001b[0;34m\u001b[0m\u001b[0m\n\u001b[1;32m   1202\u001b[0m                 \u001b[0mr\u001b[0m \u001b[0;34m=\u001b[0m \u001b[0mh\u001b[0m\u001b[0;34m.\u001b[0m\u001b[0mgetresponse\u001b[0m\u001b[0;34m(\u001b[0m\u001b[0;34m)\u001b[0m\u001b[0;34m\u001b[0m\u001b[0m\n",
      "\u001b[0;32m/Users/joshua/anaconda/lib/python2.7/httplib.pyc\u001b[0m in \u001b[0;36mgetresponse\u001b[0;34m(self, buffering)\u001b[0m\n\u001b[1;32m   1134\u001b[0m \u001b[0;34m\u001b[0m\u001b[0m\n\u001b[1;32m   1135\u001b[0m         \u001b[0;32mtry\u001b[0m\u001b[0;34m:\u001b[0m\u001b[0;34m\u001b[0m\u001b[0m\n\u001b[0;32m-> 1136\u001b[0;31m             \u001b[0mresponse\u001b[0m\u001b[0;34m.\u001b[0m\u001b[0mbegin\u001b[0m\u001b[0;34m(\u001b[0m\u001b[0;34m)\u001b[0m\u001b[0;34m\u001b[0m\u001b[0m\n\u001b[0m\u001b[1;32m   1137\u001b[0m             \u001b[0;32massert\u001b[0m \u001b[0mresponse\u001b[0m\u001b[0;34m.\u001b[0m\u001b[0mwill_close\u001b[0m \u001b[0;34m!=\u001b[0m \u001b[0m_UNKNOWN\u001b[0m\u001b[0;34m\u001b[0m\u001b[0m\n\u001b[1;32m   1138\u001b[0m             \u001b[0mself\u001b[0m\u001b[0;34m.\u001b[0m\u001b[0m__state\u001b[0m \u001b[0;34m=\u001b[0m \u001b[0m_CS_IDLE\u001b[0m\u001b[0;34m\u001b[0m\u001b[0m\n",
      "\u001b[0;32m/Users/joshua/anaconda/lib/python2.7/httplib.pyc\u001b[0m in \u001b[0;36mbegin\u001b[0;34m(self)\u001b[0m\n\u001b[1;32m    451\u001b[0m         \u001b[0;31m# read until we get a non-100 response\u001b[0m\u001b[0;34m\u001b[0m\u001b[0;34m\u001b[0m\u001b[0m\n\u001b[1;32m    452\u001b[0m         \u001b[0;32mwhile\u001b[0m \u001b[0mTrue\u001b[0m\u001b[0;34m:\u001b[0m\u001b[0;34m\u001b[0m\u001b[0m\n\u001b[0;32m--> 453\u001b[0;31m             \u001b[0mversion\u001b[0m\u001b[0;34m,\u001b[0m \u001b[0mstatus\u001b[0m\u001b[0;34m,\u001b[0m \u001b[0mreason\u001b[0m \u001b[0;34m=\u001b[0m \u001b[0mself\u001b[0m\u001b[0;34m.\u001b[0m\u001b[0m_read_status\u001b[0m\u001b[0;34m(\u001b[0m\u001b[0;34m)\u001b[0m\u001b[0;34m\u001b[0m\u001b[0m\n\u001b[0m\u001b[1;32m    454\u001b[0m             \u001b[0;32mif\u001b[0m \u001b[0mstatus\u001b[0m \u001b[0;34m!=\u001b[0m \u001b[0mCONTINUE\u001b[0m\u001b[0;34m:\u001b[0m\u001b[0;34m\u001b[0m\u001b[0m\n\u001b[1;32m    455\u001b[0m                 \u001b[0;32mbreak\u001b[0m\u001b[0;34m\u001b[0m\u001b[0m\n",
      "\u001b[0;32m/Users/joshua/anaconda/lib/python2.7/httplib.pyc\u001b[0m in \u001b[0;36m_read_status\u001b[0;34m(self)\u001b[0m\n\u001b[1;32m    407\u001b[0m     \u001b[0;32mdef\u001b[0m \u001b[0m_read_status\u001b[0m\u001b[0;34m(\u001b[0m\u001b[0mself\u001b[0m\u001b[0;34m)\u001b[0m\u001b[0;34m:\u001b[0m\u001b[0;34m\u001b[0m\u001b[0m\n\u001b[1;32m    408\u001b[0m         \u001b[0;31m# Initialize with Simple-Response defaults\u001b[0m\u001b[0;34m\u001b[0m\u001b[0;34m\u001b[0m\u001b[0m\n\u001b[0;32m--> 409\u001b[0;31m         \u001b[0mline\u001b[0m \u001b[0;34m=\u001b[0m \u001b[0mself\u001b[0m\u001b[0;34m.\u001b[0m\u001b[0mfp\u001b[0m\u001b[0;34m.\u001b[0m\u001b[0mreadline\u001b[0m\u001b[0;34m(\u001b[0m\u001b[0m_MAXLINE\u001b[0m \u001b[0;34m+\u001b[0m \u001b[0;36m1\u001b[0m\u001b[0;34m)\u001b[0m\u001b[0;34m\u001b[0m\u001b[0m\n\u001b[0m\u001b[1;32m    410\u001b[0m         \u001b[0;32mif\u001b[0m \u001b[0mlen\u001b[0m\u001b[0;34m(\u001b[0m\u001b[0mline\u001b[0m\u001b[0;34m)\u001b[0m \u001b[0;34m>\u001b[0m \u001b[0m_MAXLINE\u001b[0m\u001b[0;34m:\u001b[0m\u001b[0;34m\u001b[0m\u001b[0m\n\u001b[1;32m    411\u001b[0m             \u001b[0;32mraise\u001b[0m \u001b[0mLineTooLong\u001b[0m\u001b[0;34m(\u001b[0m\u001b[0;34m\"header line\"\u001b[0m\u001b[0;34m)\u001b[0m\u001b[0;34m\u001b[0m\u001b[0m\n",
      "\u001b[0;32m/Users/joshua/anaconda/lib/python2.7/socket.pyc\u001b[0m in \u001b[0;36mreadline\u001b[0;34m(self, size)\u001b[0m\n\u001b[1;32m    478\u001b[0m             \u001b[0;32mwhile\u001b[0m \u001b[0mTrue\u001b[0m\u001b[0;34m:\u001b[0m\u001b[0;34m\u001b[0m\u001b[0m\n\u001b[1;32m    479\u001b[0m                 \u001b[0;32mtry\u001b[0m\u001b[0;34m:\u001b[0m\u001b[0;34m\u001b[0m\u001b[0m\n\u001b[0;32m--> 480\u001b[0;31m                     \u001b[0mdata\u001b[0m \u001b[0;34m=\u001b[0m \u001b[0mself\u001b[0m\u001b[0;34m.\u001b[0m\u001b[0m_sock\u001b[0m\u001b[0;34m.\u001b[0m\u001b[0mrecv\u001b[0m\u001b[0;34m(\u001b[0m\u001b[0mself\u001b[0m\u001b[0;34m.\u001b[0m\u001b[0m_rbufsize\u001b[0m\u001b[0;34m)\u001b[0m\u001b[0;34m\u001b[0m\u001b[0m\n\u001b[0m\u001b[1;32m    481\u001b[0m                 \u001b[0;32mexcept\u001b[0m \u001b[0merror\u001b[0m\u001b[0;34m,\u001b[0m \u001b[0me\u001b[0m\u001b[0;34m:\u001b[0m\u001b[0;34m\u001b[0m\u001b[0m\n\u001b[1;32m    482\u001b[0m                     \u001b[0;32mif\u001b[0m \u001b[0me\u001b[0m\u001b[0;34m.\u001b[0m\u001b[0margs\u001b[0m\u001b[0;34m[\u001b[0m\u001b[0;36m0\u001b[0m\u001b[0;34m]\u001b[0m \u001b[0;34m==\u001b[0m \u001b[0mEINTR\u001b[0m\u001b[0;34m:\u001b[0m\u001b[0;34m\u001b[0m\u001b[0m\n",
      "\u001b[0;32m/Users/joshua/anaconda/lib/python2.7/ssl.pyc\u001b[0m in \u001b[0;36mrecv\u001b[0;34m(self, buflen, flags)\u001b[0m\n\u001b[1;32m    732\u001b[0m                     \u001b[0;34m\"non-zero flags not allowed in calls to recv() on %s\"\u001b[0m \u001b[0;34m%\u001b[0m\u001b[0;34m\u001b[0m\u001b[0m\n\u001b[1;32m    733\u001b[0m                     self.__class__)\n\u001b[0;32m--> 734\u001b[0;31m             \u001b[0;32mreturn\u001b[0m \u001b[0mself\u001b[0m\u001b[0;34m.\u001b[0m\u001b[0mread\u001b[0m\u001b[0;34m(\u001b[0m\u001b[0mbuflen\u001b[0m\u001b[0;34m)\u001b[0m\u001b[0;34m\u001b[0m\u001b[0m\n\u001b[0m\u001b[1;32m    735\u001b[0m         \u001b[0;32melse\u001b[0m\u001b[0;34m:\u001b[0m\u001b[0;34m\u001b[0m\u001b[0m\n\u001b[1;32m    736\u001b[0m             \u001b[0;32mreturn\u001b[0m \u001b[0mself\u001b[0m\u001b[0;34m.\u001b[0m\u001b[0m_sock\u001b[0m\u001b[0;34m.\u001b[0m\u001b[0mrecv\u001b[0m\u001b[0;34m(\u001b[0m\u001b[0mbuflen\u001b[0m\u001b[0;34m,\u001b[0m \u001b[0mflags\u001b[0m\u001b[0;34m)\u001b[0m\u001b[0;34m\u001b[0m\u001b[0m\n",
      "\u001b[0;32m/Users/joshua/anaconda/lib/python2.7/ssl.pyc\u001b[0m in \u001b[0;36mread\u001b[0;34m(self, len, buffer)\u001b[0m\n\u001b[1;32m    619\u001b[0m                 \u001b[0mv\u001b[0m \u001b[0;34m=\u001b[0m \u001b[0mself\u001b[0m\u001b[0;34m.\u001b[0m\u001b[0m_sslobj\u001b[0m\u001b[0;34m.\u001b[0m\u001b[0mread\u001b[0m\u001b[0;34m(\u001b[0m\u001b[0mlen\u001b[0m\u001b[0;34m,\u001b[0m \u001b[0mbuffer\u001b[0m\u001b[0;34m)\u001b[0m\u001b[0;34m\u001b[0m\u001b[0m\n\u001b[1;32m    620\u001b[0m             \u001b[0;32melse\u001b[0m\u001b[0;34m:\u001b[0m\u001b[0;34m\u001b[0m\u001b[0m\n\u001b[0;32m--> 621\u001b[0;31m                 \u001b[0mv\u001b[0m \u001b[0;34m=\u001b[0m \u001b[0mself\u001b[0m\u001b[0;34m.\u001b[0m\u001b[0m_sslobj\u001b[0m\u001b[0;34m.\u001b[0m\u001b[0mread\u001b[0m\u001b[0;34m(\u001b[0m\u001b[0mlen\u001b[0m \u001b[0;32mor\u001b[0m \u001b[0;36m1024\u001b[0m\u001b[0;34m)\u001b[0m\u001b[0;34m\u001b[0m\u001b[0m\n\u001b[0m\u001b[1;32m    622\u001b[0m             \u001b[0;32mreturn\u001b[0m \u001b[0mv\u001b[0m\u001b[0;34m\u001b[0m\u001b[0m\n\u001b[1;32m    623\u001b[0m         \u001b[0;32mexcept\u001b[0m \u001b[0mSSLError\u001b[0m \u001b[0;32mas\u001b[0m \u001b[0mx\u001b[0m\u001b[0;34m:\u001b[0m\u001b[0;34m\u001b[0m\u001b[0m\n",
      "\u001b[0;31mKeyboardInterrupt\u001b[0m: "
     ]
    }
   ],
   "source": [
    "pos = with_pos[['lat','long']].as_matrix()\n",
    "pos = [', '.join([str(p[0]),str(p[1])]) for p in pos]"
   ]
  },
  {
   "cell_type": "code",
   "execution_count": 254,
   "metadata": {
    "collapsed": false
   },
   "outputs": [],
   "source": [
    "import time\n",
    "def geo_loc(p):\n",
    "    try:\n",
    "        return geolocator.reverse(p)\n",
    "    except Exception:\n",
    "        time.sleep(1)\n",
    "        return geo_loc(p)"
   ]
  },
  {
   "cell_type": "code",
   "execution_count": 387,
   "metadata": {
    "collapsed": false
   },
   "outputs": [],
   "source": [
    "pos = with_pos[['lat','long']].as_matrix()\n",
    "pos = (', '.join([str(p[0]),str(p[1])]) for p in pos)\n",
    "\n",
    "pos = (geo_loc(p).raw for p in pos)\n",
    "pos = (my_try_address(p) for p in pos)\n",
    "\n",
    "\n",
    "state_tans = {\n",
    "    'Puerto Rico':'X',\n",
    "    'None': 'X',\n",
    "    'Alabama': 'AL',\n",
    "    'Alaska': 'AK',\n",
    "    'Arizona': 'AZ',\n",
    "    'Arkansas': 'AR',\n",
    "    'California': 'CA',\n",
    "    'Colorado': 'CO',\n",
    "    'Connecticut': 'CT',\n",
    "    'Delaware': 'DE',\n",
    "    'Florida': 'FL',\n",
    "    'Georgia': 'GA',\n",
    "    'Hawaii': 'HI',\n",
    "    'Idaho': 'ID',\n",
    "    'Illinois': 'IL',\n",
    "    'Indiana': 'IN',\n",
    "    'Iowa': 'IA',\n",
    "    'Kansas': 'KS',\n",
    "    'Kentucky': 'KY',\n",
    "    'Louisiana': 'LA',\n",
    "    'Maine': 'ME',\n",
    "    'Maryland': 'MD',\n",
    "    'Massachusetts': 'MA',\n",
    "    'Michigan': 'MI',\n",
    "    'Minnesota': 'MN',\n",
    "    'Mississippi': 'MS',\n",
    "    'Missouri': 'MO',\n",
    "    'Montana': 'MT',\n",
    "    'Nebraska': 'NE',\n",
    "    'Nevada': 'NV',\n",
    "    'New Hampshire': 'NH',\n",
    "    'New Jersey': 'NJ',\n",
    "    'New Mexico': 'NM',\n",
    "    'New York': 'NY',\n",
    "    'North Carolina': 'NC',\n",
    "    'North Dakota': 'ND',\n",
    "    'Ohio': 'OH',\n",
    "    'Oklahoma': 'OK',\n",
    "    'Oregon': 'OR',\n",
    "    'Pennsylvania': 'PA',\n",
    "    'Rhode Island': 'RI',\n",
    "    'South Carolina': 'SC',\n",
    "    'South Dakota': 'SD',\n",
    "    'Tennessee': 'TN',\n",
    "    'Texas': 'TX',\n",
    "    'Utah': 'UT',\n",
    "    'Vermont': 'VT',\n",
    "    'Virginia': 'VA',\n",
    "    'Washington': 'WA',\n",
    "    'West Virginia': 'WV',\n",
    "    'Wisconsin': 'WI',\n",
    "    'Wyoming': 'WY',\n",
    "    'District of Columbia': 'DC',\n",
    "}\n",
    "\n",
    "state = (state_tans[p] for p in pos)"
   ]
  },
  {
   "cell_type": "code",
   "execution_count": 388,
   "metadata": {
    "collapsed": false
   },
   "outputs": [
    {
     "ename": "KeyboardInterrupt",
     "evalue": "",
     "output_type": "error",
     "traceback": [
      "\u001b[0;31m---------------------------------------------------------------------------\u001b[0m",
      "\u001b[0;31mKeyboardInterrupt\u001b[0m                         Traceback (most recent call last)",
      "\u001b[0;32m<ipython-input-388-4ee23a32811b>\u001b[0m in \u001b[0;36m<module>\u001b[0;34m()\u001b[0m\n\u001b[1;32m      3\u001b[0m \u001b[0;32mwhile\u001b[0m \u001b[0mrunning\u001b[0m\u001b[0;34m:\u001b[0m\u001b[0;34m\u001b[0m\u001b[0m\n\u001b[1;32m      4\u001b[0m     \u001b[0;32mtry\u001b[0m\u001b[0;34m:\u001b[0m\u001b[0;34m\u001b[0m\u001b[0m\n\u001b[0;32m----> 5\u001b[0;31m         \u001b[0mstates\u001b[0m\u001b[0;34m.\u001b[0m\u001b[0mappend\u001b[0m\u001b[0;34m(\u001b[0m\u001b[0mnext\u001b[0m\u001b[0;34m(\u001b[0m\u001b[0mstate\u001b[0m\u001b[0;34m)\u001b[0m\u001b[0;34m)\u001b[0m\u001b[0;34m\u001b[0m\u001b[0m\n\u001b[0m\u001b[1;32m      6\u001b[0m     \u001b[0;32mexcept\u001b[0m \u001b[0mException\u001b[0m\u001b[0;34m:\u001b[0m\u001b[0;34m\u001b[0m\u001b[0m\n\u001b[1;32m      7\u001b[0m         \u001b[0mrunning\u001b[0m \u001b[0;34m=\u001b[0m \u001b[0mFalse\u001b[0m\u001b[0;34m\u001b[0m\u001b[0m\n",
      "\u001b[0;32m<ipython-input-387-48eebdc75c30>\u001b[0m in \u001b[0;36m<genexpr>\u001b[0;34m(***failed resolving arguments***)\u001b[0m\n\u001b[1;32m     62\u001b[0m }\n\u001b[1;32m     63\u001b[0m \u001b[0;34m\u001b[0m\u001b[0m\n\u001b[0;32m---> 64\u001b[0;31m \u001b[0mstate\u001b[0m \u001b[0;34m=\u001b[0m \u001b[0;34m(\u001b[0m\u001b[0mstate_tans\u001b[0m\u001b[0;34m[\u001b[0m\u001b[0mp\u001b[0m\u001b[0;34m]\u001b[0m \u001b[0;32mfor\u001b[0m \u001b[0mp\u001b[0m \u001b[0;32min\u001b[0m \u001b[0mpos\u001b[0m\u001b[0;34m)\u001b[0m\u001b[0;34m\u001b[0m\u001b[0m\n\u001b[0m",
      "\u001b[0;32m<ipython-input-387-48eebdc75c30>\u001b[0m in \u001b[0;36m<genexpr>\u001b[0;34m(***failed resolving arguments***)\u001b[0m\n\u001b[1;32m      3\u001b[0m \u001b[0;34m\u001b[0m\u001b[0m\n\u001b[1;32m      4\u001b[0m \u001b[0mpos\u001b[0m \u001b[0;34m=\u001b[0m \u001b[0;34m(\u001b[0m\u001b[0mgeo_loc\u001b[0m\u001b[0;34m(\u001b[0m\u001b[0mp\u001b[0m\u001b[0;34m)\u001b[0m\u001b[0;34m.\u001b[0m\u001b[0mraw\u001b[0m \u001b[0;32mfor\u001b[0m \u001b[0mp\u001b[0m \u001b[0;32min\u001b[0m \u001b[0mpos\u001b[0m\u001b[0;34m)\u001b[0m\u001b[0;34m\u001b[0m\u001b[0m\n\u001b[0;32m----> 5\u001b[0;31m \u001b[0mpos\u001b[0m \u001b[0;34m=\u001b[0m \u001b[0;34m(\u001b[0m\u001b[0mmy_try_address\u001b[0m\u001b[0;34m(\u001b[0m\u001b[0mp\u001b[0m\u001b[0;34m)\u001b[0m \u001b[0;32mfor\u001b[0m \u001b[0mp\u001b[0m \u001b[0;32min\u001b[0m \u001b[0mpos\u001b[0m\u001b[0;34m)\u001b[0m\u001b[0;34m\u001b[0m\u001b[0m\n\u001b[0m\u001b[1;32m      6\u001b[0m \u001b[0;34m\u001b[0m\u001b[0m\n\u001b[1;32m      7\u001b[0m \u001b[0;34m\u001b[0m\u001b[0m\n",
      "\u001b[0;32m<ipython-input-387-48eebdc75c30>\u001b[0m in \u001b[0;36m<genexpr>\u001b[0;34m((p,))\u001b[0m\n\u001b[1;32m      2\u001b[0m \u001b[0mpos\u001b[0m \u001b[0;34m=\u001b[0m \u001b[0;34m(\u001b[0m\u001b[0;34m', '\u001b[0m\u001b[0;34m.\u001b[0m\u001b[0mjoin\u001b[0m\u001b[0;34m(\u001b[0m\u001b[0;34m[\u001b[0m\u001b[0mstr\u001b[0m\u001b[0;34m(\u001b[0m\u001b[0mp\u001b[0m\u001b[0;34m[\u001b[0m\u001b[0;36m0\u001b[0m\u001b[0;34m]\u001b[0m\u001b[0;34m)\u001b[0m\u001b[0;34m,\u001b[0m\u001b[0mstr\u001b[0m\u001b[0;34m(\u001b[0m\u001b[0mp\u001b[0m\u001b[0;34m[\u001b[0m\u001b[0;36m1\u001b[0m\u001b[0;34m]\u001b[0m\u001b[0;34m)\u001b[0m\u001b[0;34m]\u001b[0m\u001b[0;34m)\u001b[0m \u001b[0;32mfor\u001b[0m \u001b[0mp\u001b[0m \u001b[0;32min\u001b[0m \u001b[0mpos\u001b[0m\u001b[0;34m)\u001b[0m\u001b[0;34m\u001b[0m\u001b[0m\n\u001b[1;32m      3\u001b[0m \u001b[0;34m\u001b[0m\u001b[0m\n\u001b[0;32m----> 4\u001b[0;31m \u001b[0mpos\u001b[0m \u001b[0;34m=\u001b[0m \u001b[0;34m(\u001b[0m\u001b[0mgeo_loc\u001b[0m\u001b[0;34m(\u001b[0m\u001b[0mp\u001b[0m\u001b[0;34m)\u001b[0m\u001b[0;34m.\u001b[0m\u001b[0mraw\u001b[0m \u001b[0;32mfor\u001b[0m \u001b[0mp\u001b[0m \u001b[0;32min\u001b[0m \u001b[0mpos\u001b[0m\u001b[0;34m)\u001b[0m\u001b[0;34m\u001b[0m\u001b[0m\n\u001b[0m\u001b[1;32m      5\u001b[0m \u001b[0mpos\u001b[0m \u001b[0;34m=\u001b[0m \u001b[0;34m(\u001b[0m\u001b[0mmy_try_address\u001b[0m\u001b[0;34m(\u001b[0m\u001b[0mp\u001b[0m\u001b[0;34m)\u001b[0m \u001b[0;32mfor\u001b[0m \u001b[0mp\u001b[0m \u001b[0;32min\u001b[0m \u001b[0mpos\u001b[0m\u001b[0;34m)\u001b[0m\u001b[0;34m\u001b[0m\u001b[0m\n\u001b[1;32m      6\u001b[0m \u001b[0;34m\u001b[0m\u001b[0m\n",
      "\u001b[0;32m<ipython-input-254-e804b04df3cf>\u001b[0m in \u001b[0;36mgeo_loc\u001b[0;34m(p)\u001b[0m\n\u001b[1;32m      5\u001b[0m     \u001b[0;32mexcept\u001b[0m \u001b[0mException\u001b[0m\u001b[0;34m:\u001b[0m\u001b[0;34m\u001b[0m\u001b[0m\n\u001b[1;32m      6\u001b[0m         \u001b[0mtime\u001b[0m\u001b[0;34m.\u001b[0m\u001b[0msleep\u001b[0m\u001b[0;34m(\u001b[0m\u001b[0;36m1\u001b[0m\u001b[0;34m)\u001b[0m\u001b[0;34m\u001b[0m\u001b[0m\n\u001b[0;32m----> 7\u001b[0;31m         \u001b[0;32mreturn\u001b[0m \u001b[0mgeo_loc\u001b[0m\u001b[0;34m(\u001b[0m\u001b[0mp\u001b[0m\u001b[0;34m)\u001b[0m\u001b[0;34m\u001b[0m\u001b[0m\n\u001b[0m",
      "\u001b[0;32m<ipython-input-254-e804b04df3cf>\u001b[0m in \u001b[0;36mgeo_loc\u001b[0;34m(p)\u001b[0m\n\u001b[1;32m      5\u001b[0m     \u001b[0;32mexcept\u001b[0m \u001b[0mException\u001b[0m\u001b[0;34m:\u001b[0m\u001b[0;34m\u001b[0m\u001b[0m\n\u001b[1;32m      6\u001b[0m         \u001b[0mtime\u001b[0m\u001b[0;34m.\u001b[0m\u001b[0msleep\u001b[0m\u001b[0;34m(\u001b[0m\u001b[0;36m1\u001b[0m\u001b[0;34m)\u001b[0m\u001b[0;34m\u001b[0m\u001b[0m\n\u001b[0;32m----> 7\u001b[0;31m         \u001b[0;32mreturn\u001b[0m \u001b[0mgeo_loc\u001b[0m\u001b[0;34m(\u001b[0m\u001b[0mp\u001b[0m\u001b[0;34m)\u001b[0m\u001b[0;34m\u001b[0m\u001b[0m\n\u001b[0m",
      "\u001b[0;32m<ipython-input-254-e804b04df3cf>\u001b[0m in \u001b[0;36mgeo_loc\u001b[0;34m(p)\u001b[0m\n\u001b[1;32m      5\u001b[0m     \u001b[0;32mexcept\u001b[0m \u001b[0mException\u001b[0m\u001b[0;34m:\u001b[0m\u001b[0;34m\u001b[0m\u001b[0m\n\u001b[1;32m      6\u001b[0m         \u001b[0mtime\u001b[0m\u001b[0;34m.\u001b[0m\u001b[0msleep\u001b[0m\u001b[0;34m(\u001b[0m\u001b[0;36m1\u001b[0m\u001b[0;34m)\u001b[0m\u001b[0;34m\u001b[0m\u001b[0m\n\u001b[0;32m----> 7\u001b[0;31m         \u001b[0;32mreturn\u001b[0m \u001b[0mgeo_loc\u001b[0m\u001b[0;34m(\u001b[0m\u001b[0mp\u001b[0m\u001b[0;34m)\u001b[0m\u001b[0;34m\u001b[0m\u001b[0m\n\u001b[0m",
      "\u001b[0;32m<ipython-input-254-e804b04df3cf>\u001b[0m in \u001b[0;36mgeo_loc\u001b[0;34m(p)\u001b[0m\n\u001b[1;32m      4\u001b[0m         \u001b[0;32mreturn\u001b[0m \u001b[0mgeolocator\u001b[0m\u001b[0;34m.\u001b[0m\u001b[0mreverse\u001b[0m\u001b[0;34m(\u001b[0m\u001b[0mp\u001b[0m\u001b[0;34m)\u001b[0m\u001b[0;34m\u001b[0m\u001b[0m\n\u001b[1;32m      5\u001b[0m     \u001b[0;32mexcept\u001b[0m \u001b[0mException\u001b[0m\u001b[0;34m:\u001b[0m\u001b[0;34m\u001b[0m\u001b[0m\n\u001b[0;32m----> 6\u001b[0;31m         \u001b[0mtime\u001b[0m\u001b[0;34m.\u001b[0m\u001b[0msleep\u001b[0m\u001b[0;34m(\u001b[0m\u001b[0;36m1\u001b[0m\u001b[0;34m)\u001b[0m\u001b[0;34m\u001b[0m\u001b[0m\n\u001b[0m\u001b[1;32m      7\u001b[0m         \u001b[0;32mreturn\u001b[0m \u001b[0mgeo_loc\u001b[0m\u001b[0;34m(\u001b[0m\u001b[0mp\u001b[0m\u001b[0;34m)\u001b[0m\u001b[0;34m\u001b[0m\u001b[0m\n",
      "\u001b[0;31mKeyboardInterrupt\u001b[0m: "
     ]
    }
   ],
   "source": [
    "states = []\n",
    "running = True\n",
    "while running:\n",
    "    try:\n",
    "        states.append(next(state))\n",
    "    except Exception:\n",
    "        running = False"
   ]
  },
  {
   "cell_type": "code",
   "execution_count": 389,
   "metadata": {
    "collapsed": false
   },
   "outputs": [
    {
     "data": {
      "text/plain": [
       "[]"
      ]
     },
     "execution_count": 389,
     "metadata": {},
     "output_type": "execute_result"
    }
   ],
   "source": [
    "states"
   ]
  },
  {
   "cell_type": "code",
   "execution_count": 166,
   "metadata": {
    "collapsed": true
   },
   "outputs": [],
   "source": [
    "from itertools import takewhile"
   ]
  },
  {
   "cell_type": "code",
   "execution_count": 377,
   "metadata": {
    "collapsed": false
   },
   "outputs": [],
   "source": [
    "# k = takewhile(lambda x : x[0] < 10,enumerate(pos))\n",
    "def my_try_address(d):\n",
    "    try:\n",
    "        if d['address']['country'] == 'United States of America':\n",
    "            return d['address']['state']\n",
    "        else:\n",
    "            return 'None'\n",
    "        return d['address']['state'],d['address']['country']\n",
    "    except Exception:\n",
    "        return 'None'\n",
    "# [my_try_address(z[1].raw) for z in list(k)]"
   ]
  },
  {
   "cell_type": "code",
   "execution_count": 202,
   "metadata": {
    "collapsed": false
   },
   "outputs": [],
   "source": [
    "d = {'a':{'b':2},'c':4}"
   ]
  },
  {
   "cell_type": "code",
   "execution_count": 205,
   "metadata": {
    "collapsed": false
   },
   "outputs": [
    {
     "ename": "KeyError",
     "evalue": "('a', 'b')",
     "output_type": "error",
     "traceback": [
      "\u001b[0;31m---------------------------------------------------------------------------\u001b[0m",
      "\u001b[0;31mKeyError\u001b[0m                                  Traceback (most recent call last)",
      "\u001b[0;32m<ipython-input-205-4aa90daec4c8>\u001b[0m in \u001b[0;36m<module>\u001b[0;34m()\u001b[0m\n\u001b[0;32m----> 1\u001b[0;31m \u001b[0md\u001b[0m\u001b[0;34m[\u001b[0m\u001b[0;34m(\u001b[0m\u001b[0;34m'a'\u001b[0m\u001b[0;34m,\u001b[0m\u001b[0;34m'b'\u001b[0m\u001b[0;34m)\u001b[0m\u001b[0;34m]\u001b[0m\u001b[0;34m\u001b[0m\u001b[0m\n\u001b[0m",
      "\u001b[0;31mKeyError\u001b[0m: ('a', 'b')"
     ]
    }
   ],
   "source": [
    "d[('a','b')]"
   ]
  },
  {
   "cell_type": "code",
   "execution_count": null,
   "metadata": {
    "collapsed": true
   },
   "outputs": [],
   "source": []
  }
 ],
 "metadata": {
  "anaconda-cloud": {},
  "kernelspec": {
   "display_name": "Python [default]",
   "language": "python",
   "name": "python2"
  },
  "language_info": {
   "codemirror_mode": {
    "name": "ipython",
    "version": 2
   },
   "file_extension": ".py",
   "mimetype": "text/x-python",
   "name": "python",
   "nbconvert_exporter": "python",
   "pygments_lexer": "ipython2",
   "version": "2.7.11"
  },
  "latex_envs": {
   "bibliofile": "biblio.bib",
   "cite_by": "apalike",
   "current_citInitial": 1,
   "eqLabelWithNumbers": true,
   "eqNumInitial": 0
  },
  "toc": {
   "nav_menu": {
    "height": "12px",
    "width": "252px"
   },
   "navigate_menu": true,
   "number_sections": true,
   "sideBar": true,
   "threshold": 4,
   "toc_cell": false,
   "toc_section_display": "block",
   "toc_window_display": false
  }
 },
 "nbformat": 4,
 "nbformat_minor": 0
}
