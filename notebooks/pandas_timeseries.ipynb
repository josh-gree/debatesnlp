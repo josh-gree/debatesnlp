{
 "cells": [
  {
   "cell_type": "code",
   "execution_count": 13,
   "metadata": {
    "collapsed": false
   },
   "outputs": [
    {
     "name": "stdout",
     "output_type": "stream",
     "text": [
      "Collecting python-nvd3\n",
      "  Downloading python-nvd3-0.14.2.tar.gz\n",
      "Collecting python-slugify==1.1.4 (from python-nvd3)\n",
      "  Downloading python-slugify-1.1.4.tar.gz\n",
      "Collecting Jinja2>=2.8 (from python-nvd3)\n",
      "  Using cached Jinja2-2.8-py2.py3-none-any.whl\n",
      "Requirement already satisfied (use --upgrade to upgrade): Unidecode>=0.04.16 in /Users/joshua/anaconda/lib/python2.7/site-packages (from python-slugify==1.1.4->python-nvd3)\n",
      "Requirement already satisfied (use --upgrade to upgrade): MarkupSafe in /Users/joshua/anaconda/lib/python2.7/site-packages (from Jinja2>=2.8->python-nvd3)\n",
      "Building wheels for collected packages: python-nvd3, python-slugify\n",
      "  Running setup.py bdist_wheel for python-nvd3 ... \u001b[?25l-\b \b\\\b \bdone\n",
      "\u001b[?25h  Stored in directory: /Users/joshua/Library/Caches/pip/wheels/4c/c7/25/9705335480c268687edc84017080f257a48ac2a710d5f8cafc\n",
      "  Running setup.py bdist_wheel for python-slugify ... \u001b[?25l-\b \bdone\n",
      "\u001b[?25h  Stored in directory: /Users/joshua/Library/Caches/pip/wheels/dd/75/f4/b7bfaa9ca2c0124f7d326004c99a44230b3fe096454d53b2f8\n",
      "Successfully built python-nvd3 python-slugify\n",
      "Installing collected packages: python-slugify, Jinja2, python-nvd3\n",
      "  Found existing installation: Jinja2 2.7.3\n",
      "    Uninstalling Jinja2-2.7.3:\n",
      "      Successfully uninstalled Jinja2-2.7.3\n",
      "Successfully installed Jinja2-2.8 python-nvd3-0.14.2 python-slugify-1.1.4\n",
      "\u001b[33mYou are using pip version 8.1.0, however version 9.0.1 is available.\n",
      "You should consider upgrading via the 'pip install --upgrade pip' command.\u001b[0m\n"
     ]
    }
   ],
   "source": [
    "!pip install python-nvd3"
   ]
  },
  {
   "cell_type": "code",
   "execution_count": 14,
   "metadata": {
    "collapsed": false
   },
   "outputs": [
    {
     "name": "stdout",
     "output_type": "stream",
     "text": [
      "loaded nvd3 IPython extension\n",
      "run nvd3.ipynb.initialize_javascript() to set up the notebook\n",
      "help(nvd3.ipynb.initialize_javascript) for options\n"
     ]
    },
    {
     "data": {
      "text/html": [
       "<link media=\"all\" href=\"https://cdnjs.cloudflare.com/ajax/libs/nvd3/1.7.0/nv.d3.min.css\" type=\"text/css\"\n",
       "                        rel=\"stylesheet\"/>"
      ],
      "text/plain": [
       "<IPython.core.display.HTML object>"
      ]
     },
     "metadata": {},
     "output_type": "display_data"
    },
    {
     "data": {
      "application/javascript": [
       "$.getScript(\"https://cdnjs.cloudflare.com/ajax/libs/nvd3/1.7.0/nv.d3.min.js\")"
      ],
      "text/plain": [
       "<IPython.core.display.Javascript object>"
      ]
     },
     "metadata": {},
     "output_type": "display_data"
    },
    {
     "data": {
      "application/javascript": [
       "$.getScript(\"https://cdnjs.cloudflare.com/ajax/libs/d3/3.5.5/d3.min.js\", function() {\n",
       "                              $.getScript(\"https://cdnjs.cloudflare.com/ajax/libs/nvd3/1.7.0/nv.d3.min.js\", function() {})});"
      ],
      "text/plain": [
       "<IPython.core.display.Javascript object>"
      ]
     },
     "metadata": {},
     "output_type": "display_data"
    },
    {
     "data": {
      "text/html": [
       "<script src=\"https://cdnjs.cloudflare.com/ajax/libs/d3/3.5.5/d3.min.js\"></script>"
      ],
      "text/plain": [
       "<IPython.core.display.HTML object>"
      ]
     },
     "metadata": {},
     "output_type": "display_data"
    },
    {
     "data": {
      "text/html": [
       "<script src=\"https://cdnjs.cloudflare.com/ajax/libs/nvd3/1.7.0/nv.d3.min.js\"></script>"
      ],
      "text/plain": [
       "<IPython.core.display.HTML object>"
      ]
     },
     "metadata": {},
     "output_type": "display_data"
    }
   ],
   "source": [
    "import random\n",
    "from IPython import display as d\n",
    "import nvd3\n",
    "nvd3.ipynb.initialize_javascript(use_remote=True)"
   ]
  },
  {
   "cell_type": "code",
   "execution_count": 15,
   "metadata": {
    "collapsed": false
   },
   "outputs": [
    {
     "name": "stdout",
     "output_type": "stream",
     "text": [
      "Help on function initialize_javascript in module nvd3.ipynb:\n",
      "\n",
      "initialize_javascript(d3_js_url='https://cdnjs.cloudflare.com/ajax/libs/d3/3.5.5/d3.min.js', nvd3_js_url='https://cdnjs.cloudflare.com/ajax/libs/nvd3/1.7.0/nv.d3.min.js', nvd3_css_url='https://cdnjs.cloudflare.com/ajax/libs/nvd3/1.7.0/nv.d3.min.css', use_remote=False)\n",
      "    Initialize the ipython notebook to be able to display nvd3 results.\n",
      "    by instructing IPython to load the nvd3 JS and css files, and the d3 JS file.\n",
      "    \n",
      "    by default, it looks for the files in your IPython Notebook working directory.\n",
      "    \n",
      "    Takes the following options:\n",
      "    \n",
      "    use_remote: use remote hosts for d3.js, nvd3.js, and nv.d3.css (default False)\n",
      "    * Note:  the following options are ignored if use_remote is False:\n",
      "    nvd3_css_url: location of nvd3 css file (default https://cdnjs.cloudflare.com/ajax/libs/nvd3/1.7.0/nv.d3.min.css)\n",
      "    nvd3_js_url: location of nvd3 javascript file (default  https://cdnjs.cloudflare.com/ajax/libs/nvd3/1.7.0/nv.d3.min.css)\n",
      "    d3_js_url: location of d3 javascript file (default https://cdnjs.cloudflare.com/ajax/libs/d3/3.5.5/d3.min.js)\n",
      "\n"
     ]
    },
    {
     "data": {
      "text/html": [
       "<link media=\"all\" href=\"https://cdnjs.cloudflare.com/ajax/libs/nvd3/1.7.0/nv.d3.min.css\" type=\"text/css\"\n",
       "                        rel=\"stylesheet\"/>"
      ],
      "text/plain": [
       "<IPython.core.display.HTML object>"
      ]
     },
     "metadata": {},
     "output_type": "display_data"
    },
    {
     "data": {
      "application/javascript": [
       "$.getScript(\"https://cdnjs.cloudflare.com/ajax/libs/nvd3/1.7.0/nv.d3.min.js\")"
      ],
      "text/plain": [
       "<IPython.core.display.Javascript object>"
      ]
     },
     "metadata": {},
     "output_type": "display_data"
    },
    {
     "data": {
      "application/javascript": [
       "$.getScript(\"https://cdnjs.cloudflare.com/ajax/libs/d3/3.5.5/d3.min.js\", function() {\n",
       "                              $.getScript(\"https://cdnjs.cloudflare.com/ajax/libs/nvd3/1.7.0/nv.d3.min.js\", function() {})});"
      ],
      "text/plain": [
       "<IPython.core.display.Javascript object>"
      ]
     },
     "metadata": {},
     "output_type": "display_data"
    },
    {
     "data": {
      "text/html": [
       "<script src=\"https://cdnjs.cloudflare.com/ajax/libs/d3/3.5.5/d3.min.js\"></script>"
      ],
      "text/plain": [
       "<IPython.core.display.HTML object>"
      ]
     },
     "metadata": {},
     "output_type": "display_data"
    },
    {
     "data": {
      "text/html": [
       "<script src=\"https://cdnjs.cloudflare.com/ajax/libs/nvd3/1.7.0/nv.d3.min.js\"></script>"
      ],
      "text/plain": [
       "<IPython.core.display.HTML object>"
      ]
     },
     "metadata": {},
     "output_type": "display_data"
    }
   ],
   "source": [
    "help(nvd3.ipynb.initialize_javascript)\n",
    "nvd3.ipynb.initialize_javascript(use_remote=True)"
   ]
  },
  {
   "cell_type": "code",
   "execution_count": 16,
   "metadata": {
    "collapsed": false
   },
   "outputs": [
    {
     "data": {
      "text/html": [
       "<!DOCTYPE html>\n",
       "<html lang=\"en\">\n",
       "    <head>\n",
       "        <meta charset=\"utf-8\" />\n",
       "        <link href=\"https://cdnjs.cloudflare.com/ajax/libs/nvd3/1.7.0/nv.d3.min.css\" rel=\"stylesheet\" />\n",
       "        <script src=\"https://cdnjs.cloudflare.com/ajax/libs/d3/3.5.5/d3.min.js\"></script>\n",
       "        <script src=\"https://cdnjs.cloudflare.com/ajax/libs/nvd3/1.7.0/nv.d3.min.js\"></script>\n",
       "    </head>\n",
       "    <body>\n",
       "        \n",
       "    <div id=\"stackedareachart\"><svg style=\"width:500px;height:450px;\"></svg></div>\n",
       "\n",
       "\n",
       "    <script>\n",
       "\n",
       "\n",
       "            data_stackedareachart=[{\"values\": [{\"y\": 0, \"x\": 0}, {\"y\": 5, \"x\": 1}, {\"y\": 8, \"x\": 2}, {\"y\": 12, \"x\": 3}, {\"y\": 4, \"x\": 4}, {\"y\": 15, \"x\": 5}, {\"y\": 48, \"x\": 6}, {\"y\": 70, \"x\": 7}, {\"y\": 56, \"x\": 8}, {\"y\": 72, \"x\": 9}, {\"y\": 30, \"x\": 10}, {\"y\": 99, \"x\": 11}, {\"y\": 12, \"x\": 12}, {\"y\": 130, \"x\": 13}, {\"y\": 56, \"x\": 14}, {\"y\": 15, \"x\": 15}, {\"y\": 16, \"x\": 16}, {\"y\": 119, \"x\": 17}, {\"y\": 162, \"x\": 18}, {\"y\": 95, \"x\": 19}, {\"y\": 100, \"x\": 20}, {\"y\": 84, \"x\": 21}, {\"y\": 88, \"x\": 22}, {\"y\": 207, \"x\": 23}, {\"y\": 96, \"x\": 24}, {\"y\": 25, \"x\": 25}, {\"y\": 130, \"x\": 26}, {\"y\": 54, \"x\": 27}, {\"y\": 112, \"x\": 28}, {\"y\": 87, \"x\": 29}, {\"y\": 180, \"x\": 30}, {\"y\": 217, \"x\": 31}, {\"y\": 128, \"x\": 32}, {\"y\": 297, \"x\": 33}, {\"y\": 306, \"x\": 34}, {\"y\": 350, \"x\": 35}, {\"y\": 324, \"x\": 36}, {\"y\": 259, \"x\": 37}, {\"y\": 190, \"x\": 38}, {\"y\": 156, \"x\": 39}, {\"y\": 120, \"x\": 40}, {\"y\": 205, \"x\": 41}, {\"y\": 336, \"x\": 42}, {\"y\": 215, \"x\": 43}, {\"y\": 220, \"x\": 44}, {\"y\": 270, \"x\": 45}, {\"y\": 230, \"x\": 46}, {\"y\": 94, \"x\": 47}, {\"y\": 288, \"x\": 48}, {\"y\": 147, \"x\": 49}], \"key\": \"serie 1\", \"yAxis\": \"1\"}, {\"values\": [{\"y\": 0, \"x\": 0}, {\"y\": 10, \"x\": 1}, {\"y\": 16, \"x\": 2}, {\"y\": 24, \"x\": 3}, {\"y\": 8, \"x\": 4}, {\"y\": 30, \"x\": 5}, {\"y\": 96, \"x\": 6}, {\"y\": 140, \"x\": 7}, {\"y\": 112, \"x\": 8}, {\"y\": 144, \"x\": 9}, {\"y\": 60, \"x\": 10}, {\"y\": 198, \"x\": 11}, {\"y\": 24, \"x\": 12}, {\"y\": 260, \"x\": 13}, {\"y\": 112, \"x\": 14}, {\"y\": 30, \"x\": 15}, {\"y\": 32, \"x\": 16}, {\"y\": 238, \"x\": 17}, {\"y\": 324, \"x\": 18}, {\"y\": 190, \"x\": 19}, {\"y\": 200, \"x\": 20}, {\"y\": 168, \"x\": 21}, {\"y\": 176, \"x\": 22}, {\"y\": 414, \"x\": 23}, {\"y\": 192, \"x\": 24}, {\"y\": 50, \"x\": 25}, {\"y\": 260, \"x\": 26}, {\"y\": 108, \"x\": 27}, {\"y\": 224, \"x\": 28}, {\"y\": 174, \"x\": 29}, {\"y\": 360, \"x\": 30}, {\"y\": 434, \"x\": 31}, {\"y\": 256, \"x\": 32}, {\"y\": 594, \"x\": 33}, {\"y\": 612, \"x\": 34}, {\"y\": 700, \"x\": 35}, {\"y\": 648, \"x\": 36}, {\"y\": 518, \"x\": 37}, {\"y\": 380, \"x\": 38}, {\"y\": 312, \"x\": 39}, {\"y\": 240, \"x\": 40}, {\"y\": 410, \"x\": 41}, {\"y\": 672, \"x\": 42}, {\"y\": 430, \"x\": 43}, {\"y\": 440, \"x\": 44}, {\"y\": 540, \"x\": 45}, {\"y\": 460, \"x\": 46}, {\"y\": 188, \"x\": 47}, {\"y\": 576, \"x\": 48}, {\"y\": 294, \"x\": 49}], \"key\": \"serie 2\", \"yAxis\": \"1\"}, {\"values\": [{\"y\": 0, \"x\": 0}, {\"y\": 25, \"x\": 1}, {\"y\": 40, \"x\": 2}, {\"y\": 60, \"x\": 3}, {\"y\": 20, \"x\": 4}, {\"y\": 75, \"x\": 5}, {\"y\": 240, \"x\": 6}, {\"y\": 350, \"x\": 7}, {\"y\": 280, \"x\": 8}, {\"y\": 360, \"x\": 9}, {\"y\": 150, \"x\": 10}, {\"y\": 495, \"x\": 11}, {\"y\": 60, \"x\": 12}, {\"y\": 650, \"x\": 13}, {\"y\": 280, \"x\": 14}, {\"y\": 75, \"x\": 15}, {\"y\": 80, \"x\": 16}, {\"y\": 595, \"x\": 17}, {\"y\": 810, \"x\": 18}, {\"y\": 475, \"x\": 19}, {\"y\": 500, \"x\": 20}, {\"y\": 420, \"x\": 21}, {\"y\": 440, \"x\": 22}, {\"y\": 1035, \"x\": 23}, {\"y\": 480, \"x\": 24}, {\"y\": 125, \"x\": 25}, {\"y\": 650, \"x\": 26}, {\"y\": 270, \"x\": 27}, {\"y\": 560, \"x\": 28}, {\"y\": 435, \"x\": 29}, {\"y\": 900, \"x\": 30}, {\"y\": 1085, \"x\": 31}, {\"y\": 640, \"x\": 32}, {\"y\": 1485, \"x\": 33}, {\"y\": 1530, \"x\": 34}, {\"y\": 1750, \"x\": 35}, {\"y\": 1620, \"x\": 36}, {\"y\": 1295, \"x\": 37}, {\"y\": 950, \"x\": 38}, {\"y\": 780, \"x\": 39}, {\"y\": 600, \"x\": 40}, {\"y\": 1025, \"x\": 41}, {\"y\": 1680, \"x\": 42}, {\"y\": 1075, \"x\": 43}, {\"y\": 1100, \"x\": 44}, {\"y\": 1350, \"x\": 45}, {\"y\": 1150, \"x\": 46}, {\"y\": 470, \"x\": 47}, {\"y\": 1440, \"x\": 48}, {\"y\": 735, \"x\": 49}], \"key\": \"serie 3\", \"yAxis\": \"1\"}];\n",
       "\n",
       "    nv.addGraph(function() {\n",
       "        var chart = nv.models.stackedAreaChart().useInteractiveGuideline(true);\n",
       "\n",
       "        chart.margin({top: 30, right: 60, bottom: 20, left: 60});\n",
       "\n",
       "        var datum = data_stackedareachart;\n",
       "\n",
       "\n",
       "\n",
       "\n",
       "\n",
       "            chart.xAxis\n",
       "                .tickFormat(d3.format(',.2f'));\n",
       "            chart.yAxis\n",
       "                .tickFormat(d3.format(',.2f'));\n",
       "\n",
       "\n",
       "      chart.showLegend(true);\n",
       "\n",
       "\n",
       "\n",
       "        \n",
       "\n",
       "\n",
       "        d3.select('#stackedareachart svg')\n",
       "            .datum(datum)\n",
       "            .transition().duration(500)\n",
       "            .attr('width', 500)\n",
       "            .attr('height', 450)\n",
       "            .call(chart);\n",
       "\n",
       "\n",
       "    });\n",
       "\n",
       "\n",
       "\n",
       "    </script>\n",
       "\n",
       "    </body>\n",
       "</html>"
      ],
      "text/plain": [
       "<nvd3.stackedAreaChart.stackedAreaChart at 0x104878610>"
      ]
     },
     "execution_count": 16,
     "metadata": {},
     "output_type": "execute_result"
    }
   ],
   "source": [
    "type = 'stackedAreaChart'\n",
    "chart2 = nvd3.stackedAreaChart(name=type,height=450,width=500, \n",
    "                               use_interactive_guideline=True)\n",
    "nb_element = 50\n",
    "xdata = range(nb_element)\n",
    "ydata = [i * random.randint(1, 10) for i in range(nb_element)]\n",
    "ydata2 = [x * 2 for x in ydata]\n",
    "ydata3 = [x * 5 for x in ydata]\n",
    "chart2.add_serie(name=\"serie 1\", y=ydata, x=xdata)\n",
    "chart2.add_serie(name=\"serie 2\", y=ydata2, x=xdata)\n",
    "chart2.add_serie(name=\"serie 3\", y=ydata3, x=xdata)\n",
    "chart2"
   ]
  },
  {
   "cell_type": "code",
   "execution_count": 17,
   "metadata": {
    "collapsed": false
   },
   "outputs": [
    {
     "data": {
      "text/html": [
       "<!DOCTYPE html>\n",
       "<html lang=\"en\">\n",
       "    <head>\n",
       "        <meta charset=\"utf-8\" />\n",
       "        <link href=\"https://cdnjs.cloudflare.com/ajax/libs/nvd3/1.7.0/nv.d3.min.css\" rel=\"stylesheet\" />\n",
       "        <script src=\"https://cdnjs.cloudflare.com/ajax/libs/d3/3.5.5/d3.min.js\"></script>\n",
       "        <script src=\"https://cdnjs.cloudflare.com/ajax/libs/nvd3/1.7.0/nv.d3.min.js\"></script>\n",
       "    </head>\n",
       "    <body>\n",
       "        \n",
       "    <div id=\"scatterchart_1\"><svg style=\"width:600px;height:300px;\"></svg></div>\n",
       "\n",
       "\n",
       "    <script>\n",
       "\n",
       "\n",
       "\n",
       "            data_scatterchart_1=[{\"values\": [{\"y\": 0, \"x\": 8, \"shape\": \"circle\", \"size\": \"1\"}, {\"y\": 5, \"x\": 8, \"shape\": \"circle\", \"size\": \"1\"}, {\"y\": 8, \"x\": 7, \"shape\": \"circle\", \"size\": \"1\"}, {\"y\": 3, \"x\": 10, \"shape\": \"circle\", \"size\": \"1\"}, {\"y\": 4, \"x\": 8, \"shape\": \"circle\", \"size\": \"1\"}, {\"y\": 25, \"x\": 11, \"shape\": \"circle\", \"size\": \"1\"}, {\"y\": 48, \"x\": 12, \"shape\": \"circle\", \"size\": \"1\"}, {\"y\": 63, \"x\": 15, \"shape\": \"circle\", \"size\": \"1\"}, {\"y\": 40, \"x\": 12, \"shape\": \"circle\", \"size\": \"1\"}, {\"y\": 63, \"x\": 15, \"shape\": \"circle\", \"size\": \"1\"}, {\"y\": 10, \"x\": 20, \"shape\": \"circle\", \"size\": \"1\"}, {\"y\": 11, \"x\": 21, \"shape\": \"circle\", \"size\": \"1\"}, {\"y\": 84, \"x\": 16, \"shape\": \"circle\", \"size\": \"1\"}, {\"y\": 13, \"x\": 22, \"shape\": \"circle\", \"size\": \"1\"}, {\"y\": 14, \"x\": 15, \"shape\": \"circle\", \"size\": \"1\"}, {\"y\": 135, \"x\": 18, \"shape\": \"circle\", \"size\": \"1\"}, {\"y\": 48, \"x\": 21, \"shape\": \"circle\", \"size\": \"1\"}, {\"y\": 68, \"x\": 22, \"shape\": \"circle\", \"size\": \"1\"}, {\"y\": 180, \"x\": 19, \"shape\": \"circle\", \"size\": \"1\"}, {\"y\": 152, \"x\": 27, \"shape\": \"circle\", \"size\": \"1\"}, {\"y\": 60, \"x\": 30, \"shape\": \"circle\", \"size\": \"1\"}, {\"y\": 147, \"x\": 29, \"shape\": \"circle\", \"size\": \"1\"}, {\"y\": 198, \"x\": 27, \"shape\": \"circle\", \"size\": \"1\"}, {\"y\": 23, \"x\": 24, \"shape\": \"circle\", \"size\": \"1\"}, {\"y\": 144, \"x\": 27, \"shape\": \"circle\", \"size\": \"1\"}, {\"y\": 175, \"x\": 32, \"shape\": \"circle\", \"size\": \"1\"}, {\"y\": 130, \"x\": 35, \"shape\": \"circle\", \"size\": \"1\"}, {\"y\": 108, \"x\": 30, \"shape\": \"circle\", \"size\": \"1\"}, {\"y\": 252, \"x\": 35, \"shape\": \"circle\", \"size\": \"1\"}, {\"y\": 290, \"x\": 35, \"shape\": \"circle\", \"size\": \"1\"}, {\"y\": 150, \"x\": 32, \"shape\": \"circle\", \"size\": \"1\"}, {\"y\": 310, \"x\": 40, \"shape\": \"circle\", \"size\": \"1\"}, {\"y\": 192, \"x\": 42, \"shape\": \"circle\", \"size\": \"1\"}, {\"y\": 264, \"x\": 35, \"shape\": \"circle\", \"size\": \"1\"}, {\"y\": 204, \"x\": 44, \"shape\": \"circle\", \"size\": \"1\"}, {\"y\": 70, \"x\": 37, \"shape\": \"circle\", \"size\": \"1\"}, {\"y\": 252, \"x\": 41, \"shape\": \"circle\", \"size\": \"1\"}, {\"y\": 222, \"x\": 39, \"shape\": \"circle\", \"size\": \"1\"}, {\"y\": 266, \"x\": 41, \"shape\": \"circle\", \"size\": \"1\"}, {\"y\": 39, \"x\": 42, \"shape\": \"circle\", \"size\": \"1\"}, {\"y\": 400, \"x\": 44, \"shape\": \"circle\", \"size\": \"1\"}, {\"y\": 41, \"x\": 51, \"shape\": \"circle\", \"size\": \"1\"}, {\"y\": 420, \"x\": 51, \"shape\": \"circle\", \"size\": \"1\"}, {\"y\": 172, \"x\": 44, \"shape\": \"circle\", \"size\": \"1\"}, {\"y\": 88, \"x\": 47, \"shape\": \"circle\", \"size\": \"1\"}, {\"y\": 450, \"x\": 46, \"shape\": \"circle\", \"size\": \"1\"}, {\"y\": 230, \"x\": 50, \"shape\": \"circle\", \"size\": \"1\"}, {\"y\": 282, \"x\": 49, \"shape\": \"circle\", \"size\": \"1\"}, {\"y\": 48, \"x\": 52, \"shape\": \"circle\", \"size\": \"1\"}, {\"y\": 49, \"x\": 57, \"shape\": \"circle\", \"size\": \"1\"}], \"key\": \"serie 1\", \"yAxis\": \"1\"}, {\"values\": [{\"y\": 0, \"x\": 8, \"shape\": \"cross\", \"size\": \"10\"}, {\"y\": 10, \"x\": 8, \"shape\": \"cross\", \"size\": \"10\"}, {\"y\": 16, \"x\": 7, \"shape\": \"cross\", \"size\": \"10\"}, {\"y\": 6, \"x\": 10, \"shape\": \"cross\", \"size\": \"10\"}, {\"y\": 8, \"x\": 8, \"shape\": \"cross\", \"size\": \"10\"}, {\"y\": 50, \"x\": 11, \"shape\": \"cross\", \"size\": \"10\"}, {\"y\": 96, \"x\": 12, \"shape\": \"cross\", \"size\": \"10\"}, {\"y\": 126, \"x\": 15, \"shape\": \"cross\", \"size\": \"10\"}, {\"y\": 80, \"x\": 12, \"shape\": \"cross\", \"size\": \"10\"}, {\"y\": 126, \"x\": 15, \"shape\": \"cross\", \"size\": \"10\"}, {\"y\": 20, \"x\": 20, \"shape\": \"cross\", \"size\": \"10\"}, {\"y\": 22, \"x\": 21, \"shape\": \"cross\", \"size\": \"10\"}, {\"y\": 168, \"x\": 16, \"shape\": \"cross\", \"size\": \"10\"}, {\"y\": 26, \"x\": 22, \"shape\": \"cross\", \"size\": \"10\"}, {\"y\": 28, \"x\": 15, \"shape\": \"cross\", \"size\": \"10\"}, {\"y\": 270, \"x\": 18, \"shape\": \"cross\", \"size\": \"10\"}, {\"y\": 96, \"x\": 21, \"shape\": \"cross\", \"size\": \"10\"}, {\"y\": 136, \"x\": 22, \"shape\": \"cross\", \"size\": \"10\"}, {\"y\": 360, \"x\": 19, \"shape\": \"cross\", \"size\": \"10\"}, {\"y\": 304, \"x\": 27, \"shape\": \"cross\", \"size\": \"10\"}, {\"y\": 120, \"x\": 30, \"shape\": \"cross\", \"size\": \"10\"}, {\"y\": 294, \"x\": 29, \"shape\": \"cross\", \"size\": \"10\"}, {\"y\": 396, \"x\": 27, \"shape\": \"cross\", \"size\": \"10\"}, {\"y\": 46, \"x\": 24, \"shape\": \"cross\", \"size\": \"10\"}, {\"y\": 288, \"x\": 27, \"shape\": \"cross\", \"size\": \"10\"}, {\"y\": 350, \"x\": 32, \"shape\": \"cross\", \"size\": \"10\"}, {\"y\": 260, \"x\": 35, \"shape\": \"cross\", \"size\": \"10\"}, {\"y\": 216, \"x\": 30, \"shape\": \"cross\", \"size\": \"10\"}, {\"y\": 504, \"x\": 35, \"shape\": \"cross\", \"size\": \"10\"}, {\"y\": 580, \"x\": 35, \"shape\": \"cross\", \"size\": \"10\"}, {\"y\": 300, \"x\": 32, \"shape\": \"cross\", \"size\": \"10\"}, {\"y\": 620, \"x\": 40, \"shape\": \"cross\", \"size\": \"10\"}, {\"y\": 384, \"x\": 42, \"shape\": \"cross\", \"size\": \"10\"}, {\"y\": 528, \"x\": 35, \"shape\": \"cross\", \"size\": \"10\"}, {\"y\": 408, \"x\": 44, \"shape\": \"cross\", \"size\": \"10\"}, {\"y\": 140, \"x\": 37, \"shape\": \"cross\", \"size\": \"10\"}, {\"y\": 504, \"x\": 41, \"shape\": \"cross\", \"size\": \"10\"}, {\"y\": 444, \"x\": 39, \"shape\": \"cross\", \"size\": \"10\"}, {\"y\": 532, \"x\": 41, \"shape\": \"cross\", \"size\": \"10\"}, {\"y\": 78, \"x\": 42, \"shape\": \"cross\", \"size\": \"10\"}, {\"y\": 800, \"x\": 44, \"shape\": \"cross\", \"size\": \"10\"}, {\"y\": 82, \"x\": 51, \"shape\": \"cross\", \"size\": \"10\"}, {\"y\": 840, \"x\": 51, \"shape\": \"cross\", \"size\": \"10\"}, {\"y\": 344, \"x\": 44, \"shape\": \"cross\", \"size\": \"10\"}, {\"y\": 176, \"x\": 47, \"shape\": \"cross\", \"size\": \"10\"}, {\"y\": 900, \"x\": 46, \"shape\": \"cross\", \"size\": \"10\"}, {\"y\": 460, \"x\": 50, \"shape\": \"cross\", \"size\": \"10\"}, {\"y\": 564, \"x\": 49, \"shape\": \"cross\", \"size\": \"10\"}, {\"y\": 96, \"x\": 52, \"shape\": \"cross\", \"size\": \"10\"}, {\"y\": 98, \"x\": 57, \"shape\": \"cross\", \"size\": \"10\"}], \"key\": \"serie 2\", \"yAxis\": \"1\"}, {\"values\": [{\"y\": 0, \"x\": 8, \"shape\": \"triangle-up\", \"size\": \"100\"}, {\"y\": 25, \"x\": 8, \"shape\": \"triangle-up\", \"size\": \"100\"}, {\"y\": 40, \"x\": 7, \"shape\": \"triangle-up\", \"size\": \"100\"}, {\"y\": 15, \"x\": 10, \"shape\": \"triangle-up\", \"size\": \"100\"}, {\"y\": 20, \"x\": 8, \"shape\": \"triangle-up\", \"size\": \"100\"}, {\"y\": 125, \"x\": 11, \"shape\": \"triangle-up\", \"size\": \"100\"}, {\"y\": 240, \"x\": 12, \"shape\": \"triangle-up\", \"size\": \"100\"}, {\"y\": 315, \"x\": 15, \"shape\": \"triangle-up\", \"size\": \"100\"}, {\"y\": 200, \"x\": 12, \"shape\": \"triangle-up\", \"size\": \"100\"}, {\"y\": 315, \"x\": 15, \"shape\": \"triangle-up\", \"size\": \"100\"}, {\"y\": 50, \"x\": 20, \"shape\": \"triangle-up\", \"size\": \"100\"}, {\"y\": 55, \"x\": 21, \"shape\": \"triangle-up\", \"size\": \"100\"}, {\"y\": 420, \"x\": 16, \"shape\": \"triangle-up\", \"size\": \"100\"}, {\"y\": 65, \"x\": 22, \"shape\": \"triangle-up\", \"size\": \"100\"}, {\"y\": 70, \"x\": 15, \"shape\": \"triangle-up\", \"size\": \"100\"}, {\"y\": 675, \"x\": 18, \"shape\": \"triangle-up\", \"size\": \"100\"}, {\"y\": 240, \"x\": 21, \"shape\": \"triangle-up\", \"size\": \"100\"}, {\"y\": 340, \"x\": 22, \"shape\": \"triangle-up\", \"size\": \"100\"}, {\"y\": 900, \"x\": 19, \"shape\": \"triangle-up\", \"size\": \"100\"}, {\"y\": 760, \"x\": 27, \"shape\": \"triangle-up\", \"size\": \"100\"}, {\"y\": 300, \"x\": 30, \"shape\": \"triangle-up\", \"size\": \"100\"}, {\"y\": 735, \"x\": 29, \"shape\": \"triangle-up\", \"size\": \"100\"}, {\"y\": 990, \"x\": 27, \"shape\": \"triangle-up\", \"size\": \"100\"}, {\"y\": 115, \"x\": 24, \"shape\": \"triangle-up\", \"size\": \"100\"}, {\"y\": 720, \"x\": 27, \"shape\": \"triangle-up\", \"size\": \"100\"}, {\"y\": 875, \"x\": 32, \"shape\": \"triangle-up\", \"size\": \"100\"}, {\"y\": 650, \"x\": 35, \"shape\": \"triangle-up\", \"size\": \"100\"}, {\"y\": 540, \"x\": 30, \"shape\": \"triangle-up\", \"size\": \"100\"}, {\"y\": 1260, \"x\": 35, \"shape\": \"triangle-up\", \"size\": \"100\"}, {\"y\": 1450, \"x\": 35, \"shape\": \"triangle-up\", \"size\": \"100\"}, {\"y\": 750, \"x\": 32, \"shape\": \"triangle-up\", \"size\": \"100\"}, {\"y\": 1550, \"x\": 40, \"shape\": \"triangle-up\", \"size\": \"100\"}, {\"y\": 960, \"x\": 42, \"shape\": \"triangle-up\", \"size\": \"100\"}, {\"y\": 1320, \"x\": 35, \"shape\": \"triangle-up\", \"size\": \"100\"}, {\"y\": 1020, \"x\": 44, \"shape\": \"triangle-up\", \"size\": \"100\"}, {\"y\": 350, \"x\": 37, \"shape\": \"triangle-up\", \"size\": \"100\"}, {\"y\": 1260, \"x\": 41, \"shape\": \"triangle-up\", \"size\": \"100\"}, {\"y\": 1110, \"x\": 39, \"shape\": \"triangle-up\", \"size\": \"100\"}, {\"y\": 1330, \"x\": 41, \"shape\": \"triangle-up\", \"size\": \"100\"}, {\"y\": 195, \"x\": 42, \"shape\": \"triangle-up\", \"size\": \"100\"}, {\"y\": 2000, \"x\": 44, \"shape\": \"triangle-up\", \"size\": \"100\"}, {\"y\": 205, \"x\": 51, \"shape\": \"triangle-up\", \"size\": \"100\"}, {\"y\": 2100, \"x\": 51, \"shape\": \"triangle-up\", \"size\": \"100\"}, {\"y\": 860, \"x\": 44, \"shape\": \"triangle-up\", \"size\": \"100\"}, {\"y\": 440, \"x\": 47, \"shape\": \"triangle-up\", \"size\": \"100\"}, {\"y\": 2250, \"x\": 46, \"shape\": \"triangle-up\", \"size\": \"100\"}, {\"y\": 1150, \"x\": 50, \"shape\": \"triangle-up\", \"size\": \"100\"}, {\"y\": 1410, \"x\": 49, \"shape\": \"triangle-up\", \"size\": \"100\"}, {\"y\": 240, \"x\": 52, \"shape\": \"triangle-up\", \"size\": \"100\"}, {\"y\": 245, \"x\": 57, \"shape\": \"triangle-up\", \"size\": \"100\"}], \"key\": \"serie 3\", \"yAxis\": \"1\"}];\n",
       "\n",
       "\n",
       "        nv.addGraph(function() {\n",
       "        var chart = nv.models.scatterChart();\n",
       "\n",
       "        chart.margin({top: 30, right: 60, bottom: 20, left: 60});\n",
       "\n",
       "        var datum = data_scatterchart_1;\n",
       "\n",
       "\n",
       "\n",
       "                chart.xAxis\n",
       "                .tickFormat(d3.format(',.02f'));\n",
       "            chart.yAxis\n",
       "                .tickFormat(d3.format(',.02f'));\n",
       "\n",
       "\n",
       "\n",
       "          chart.showLegend(true);\n",
       "\n",
       "\n",
       "    \n",
       "\n",
       "        \n",
       "\n",
       "\n",
       "\n",
       "\n",
       "    chart\n",
       "        .showDistX(true)\n",
       "        .showDistY(true)\n",
       "        .color(d3.scale.category10().range());\n",
       "\n",
       "            d3.select('#scatterchart_1 svg')\n",
       "            .datum(datum)\n",
       "            .transition().duration(500)\n",
       "            .attr('width', 600)\n",
       "            .attr('height', 300)\n",
       "            .call(chart);\n",
       "\n",
       "\n",
       "        });\n",
       "\n",
       "\n",
       "\n",
       "    </script>\n",
       "\n",
       "    </body>\n",
       "</html>"
      ],
      "text/plain": [
       "<nvd3.scatterChart.scatterChart at 0x104878bd0>"
      ]
     },
     "execution_count": 17,
     "metadata": {},
     "output_type": "execute_result"
    }
   ],
   "source": [
    "chart = nvd3.scatterChart(name='scatterChart_1', width=600, height=300, x_is_date=False)\n",
    "nb_element = 50\n",
    "xdata = [i + random.randint(1, 10) for i in range(nb_element)]\n",
    "ydata = [i * random.randint(1, 10) for i in range(nb_element)]\n",
    "ydata2 = [x * 2 for x in ydata]\n",
    "ydata3 = [x * 5 for x in ydata]\n",
    "\n",
    "kwargs1 = {'shape': 'circle', 'size': '1'}\n",
    "kwargs2 = {'shape': 'cross', 'size': '10'}\n",
    "kwargs3 = {'shape': 'triangle-up', 'size': '100'}\n",
    "\n",
    "extra_serie = {\"tooltip\": {\"y_start\": \"\", \"y_end\": \" calls\"}}\n",
    "chart.add_serie(name=\"serie 1\", y=ydata, x=xdata, extra=extra_serie, **kwargs1)\n",
    "chart.add_serie(name=\"serie 2\", y=ydata2, x=xdata, extra=extra_serie, **kwargs2)\n",
    "chart.add_serie(name=\"serie 3\", y=ydata3, x=xdata, extra=extra_serie, **kwargs3)\n",
    "chart"
   ]
  },
  {
   "cell_type": "code",
   "execution_count": 18,
   "metadata": {
    "collapsed": false
   },
   "outputs": [
    {
     "data": {
      "text/html": [
       "<!DOCTYPE html>\n",
       "<html lang=\"en\">\n",
       "    <head>\n",
       "        <meta charset=\"utf-8\" />\n",
       "        <link href=\"https://cdnjs.cloudflare.com/ajax/libs/nvd3/1.7.0/nv.d3.min.css\" rel=\"stylesheet\" />\n",
       "        <script src=\"https://cdnjs.cloudflare.com/ajax/libs/d3/3.5.5/d3.min.js\"></script>\n",
       "        <script src=\"https://cdnjs.cloudflare.com/ajax/libs/nvd3/1.7.0/nv.d3.min.js\"></script>\n",
       "    </head>\n",
       "    <body>\n",
       "        \n",
       "    \n",
       "\n",
       "<h2>pieChart</h2>\n",
       "\n",
       "<div id=\"piechart\"><svg style=\"width:450px;height:450px;\"></svg></div>\n",
       "\n",
       "\n",
       "    <script>\n",
       "\n",
       "\n",
       "\n",
       "    data_piechart=[{\"values\": [{\"value\": 3, \"label\": \"Orange\"}, {\"value\": 4, \"label\": \"Banana\"}, {\"value\": 0, \"label\": \"Pear\"}, {\"value\": 1, \"label\": \"Kiwi\"}, {\"value\": 5, \"label\": \"Apple\"}, {\"value\": 7, \"label\": \"Strawberry\"}, {\"value\": 3, \"label\": \"Pineapple\"}], \"key\": \"Serie 1\"}];\n",
       "\n",
       "    nv.addGraph(function() {\n",
       "        var chart = nv.models.pieChart();\n",
       "        chart.margin({top: 30, right: 60, bottom: 20, left: 60});\n",
       "        var datum = data_piechart[0].values;\n",
       "\n",
       "        chart.color(d3.scale.category20c().range());\n",
       "\n",
       "    chart.tooltipContent(function(key, y, e, graph) {\n",
       "          var x = String(key);\n",
       "              var y =  String(y)  + ' cal';\n",
       "\n",
       "              tooltip_str = '<center><b>'+x+'</b></center>' + y;\n",
       "              return tooltip_str;\n",
       "              });\n",
       "        chart.showLabels(true);\n",
       "\n",
       "            chart.donut(false);\n",
       "\n",
       "    chart.showLegend(true);\n",
       "\n",
       "\n",
       "\n",
       "\n",
       "        chart\n",
       "            .x(function(d) { return d.label })\n",
       "            .y(function(d) { return d.value });\n",
       "\n",
       "        chart.width(450);\n",
       "\n",
       "        chart.height(450);\n",
       "\n",
       "\n",
       "            d3.select('#piechart svg')\n",
       "            .datum(datum)\n",
       "            .transition().duration(500)\n",
       "            .attr('width', 450)\n",
       "            .attr('height', 450)\n",
       "            .call(chart);\n",
       "\n",
       "\n",
       "        });\n",
       "\n",
       "\n",
       "\n",
       "    </script>\n",
       "\n",
       "    </body>\n",
       "</html>"
      ],
      "text/plain": [
       "<nvd3.pieChart.pieChart at 0x1048bd6d0>"
      ]
     },
     "execution_count": 18,
     "metadata": {},
     "output_type": "execute_result"
    }
   ],
   "source": [
    "\n",
    "type = 'pieChart'\n",
    "chart1 = nvd3.pieChart(name=type, color_category='category20c', height=450, width=450)\n",
    "chart1.set_containerheader(\"\\n\\n<h2>\" + type + \"</h2>\\n\\n\")\n",
    "\n",
    "#Create the keys\n",
    "xdata = [\"Orange\", \"Banana\", \"Pear\", \"Kiwi\", \"Apple\", \"Strawberry\", \"Pineapple\"]\n",
    "ydata = [3, 4, 0, 1, 5, 7, 3]\n",
    "\n",
    "#Add the serie\n",
    "extra_serie = {\"tooltip\": {\"y_start\": \"\", \"y_end\": \" cal\"}}\n",
    "chart1.add_serie(y=ydata, x=xdata, extra=extra_serie)\n",
    "chart1"
   ]
  },
  {
   "cell_type": "code",
   "execution_count": 19,
   "metadata": {
    "collapsed": true
   },
   "outputs": [],
   "source": [
    "from nvd3 import lineChart\n",
    "\n",
    "# Open File for test\n",
    "output_file = open('test_lineChart.html', 'w')\n",
    "# ---------------------------------------\n",
    "type = \"lineChart\"\n",
    "chart = lineChart(name=type, x_is_date=False, x_axis_format=\"AM_PM\")\n",
    "\n",
    "xdata = list(range(0, 24))\n",
    "ydata = [0, 0, 1, 1, 0, 0, 0, 0, 1, 0, 0, 4, 3, 3, 5, 7, 5, 3, 16, 6, 9, 15, 4, 12]\n",
    "ydata2 = [9, 8, 11, 8, 3, 7, 10, 8, 6, 6, 9, 6, 5, 4, 3, 10, 0, 6, 3, 1, 0, 0, 0, 1]\n",
    "\n",
    "kwargs1 = {'color': 'black'}\n",
    "kwargs2 = {'color': 'red'}\n",
    "extra_serie = {\"tooltip\": {\"y_start\": \"There is \", \"y_end\": \" calls\"}}\n",
    "chart.add_serie(y=ydata, x=xdata, name='sine', extra=extra_serie, **kwargs1)\n",
    "extra_serie = {\"tooltip\": {\"y_start\": \"\", \"y_end\": \" min\"}}\n",
    "chart.add_serie(y=ydata2, x=xdata, name='cose', extra=extra_serie, **kwargs2)\n",
    "\n",
    "chart.buildhtml()\n",
    "\n",
    "output_file.write(chart.htmlcontent)\n",
    "\n",
    "# close Html file\n",
    "output_file.close()"
   ]
  },
  {
   "cell_type": "code",
   "execution_count": 20,
   "metadata": {
    "collapsed": false
   },
   "outputs": [
    {
     "name": "stdout",
     "output_type": "stream",
     "text": [
      "<!DOCTYPE html>\r\n",
      "<html lang=\"en\">\r\n",
      "    <head>\r\n",
      "        <meta charset=\"utf-8\" />\r\n",
      "        <link href=\"https://cdnjs.cloudflare.com/ajax/libs/nvd3/1.7.0/nv.d3.min.css\" rel=\"stylesheet\" />\r\n",
      "        <script src=\"https://cdnjs.cloudflare.com/ajax/libs/d3/3.5.5/d3.min.js\"></script>\r\n",
      "        <script src=\"https://cdnjs.cloudflare.com/ajax/libs/nvd3/1.7.0/nv.d3.min.js\"></script>\r\n",
      "    </head>\r\n",
      "    <body>\r\n",
      "        \r\n",
      "    <div id=\"linechart\"><svg style=\"height:450px;\"></svg></div>\r\n",
      "\r\n",
      "\r\n",
      "    <script>\r\n",
      "\r\n",
      "\r\n",
      "\r\n",
      "            data_linechart=[{\"color\": \"black\", \"values\": [{\"y\": 0, \"x\": 0}, {\"y\": 0, \"x\": 1}, {\"y\": 1, \"x\": 2}, {\"y\": 1, \"x\": 3}, {\"y\": 0, \"x\": 4}, {\"y\": 0, \"x\": 5}, {\"y\": 0, \"x\": 6}, {\"y\": 0, \"x\": 7}, {\"y\": 1, \"x\": 8}, {\"y\": 0, \"x\": 9}, {\"y\": 0, \"x\": 10}, {\"y\": 4, \"x\": 11}, {\"y\": 3, \"x\": 12}, {\"y\": 3, \"x\": 13}, {\"y\": 5, \"x\": 14}, {\"y\": 7, \"x\": 15}, {\"y\": 5, \"x\": 16}, {\"y\": 3, \"x\": 17}, {\"y\": 16, \"x\": 18}, {\"y\": 6, \"x\": 19}, {\"y\": 9, \"x\": 20}, {\"y\": 15, \"x\": 21}, {\"y\": 4, \"x\": 22}, {\"y\": 12, \"x\": 23}], \"key\": \"sine\", \"yAxis\": \"1\"}, {\"color\": \"red\", \"values\": [{\"y\": 9, \"x\": 0}, {\"y\": 8, \"x\": 1}, {\"y\": 11, \"x\": 2}, {\"y\": 8, \"x\": 3}, {\"y\": 3, \"x\": 4}, {\"y\": 7, \"x\": 5}, {\"y\": 10, \"x\": 6}, {\"y\": 8, \"x\": 7}, {\"y\": 6, \"x\": 8}, {\"y\": 6, \"x\": 9}, {\"y\": 9, \"x\": 10}, {\"y\": 6, \"x\": 11}, {\"y\": 5, \"x\": 12}, {\"y\": 4, \"x\": 13}, {\"y\": 3, \"x\": 14}, {\"y\": 10, \"x\": 15}, {\"y\": 0, \"x\": 16}, {\"y\": 6, \"x\": 17}, {\"y\": 3, \"x\": 18}, {\"y\": 1, \"x\": 19}, {\"y\": 0, \"x\": 20}, {\"y\": 0, \"x\": 21}, {\"y\": 0, \"x\": 22}, {\"y\": 1, \"x\": 23}], \"key\": \"cose\", \"yAxis\": \"1\"}];\r\n",
      "\r\n",
      "\r\n",
      "        nv.addGraph(function() {\r\n",
      "        var chart = nv.models.lineChart();\r\n",
      "\r\n",
      "        chart.margin({top: 30, right: 60, bottom: 20, left: 60});\r\n",
      "\r\n",
      "        var datum = data_linechart;\r\n",
      "\r\n",
      "\r\n",
      "\r\n",
      "                chart.xAxis\r\n",
      "                .tickFormat(function(d) { return get_am_pm(parseInt(d)); });\r\n",
      "            chart.yAxis\r\n",
      "                .tickFormat(d3.format(',.02f'));\r\n",
      "\r\n",
      "\r\n",
      "        function get_am_pm(d){\r\n",
      "            if (d > 12) {\r\n",
      "                d = d - 12; return (String(d) + 'PM');\r\n",
      "            }\r\n",
      "            else {\r\n",
      "                return (String(d) + 'AM');\r\n",
      "            }\r\n",
      "        };\r\n",
      "\r\n",
      "          chart.showLegend(true);\r\n",
      "\r\n",
      "\r\n",
      "    \r\n",
      "\r\n",
      "        \r\n",
      "\r\n",
      "\r\n",
      "\r\n",
      "            d3.select('#linechart svg')\r\n",
      "            .datum(datum)\r\n",
      "            .transition().duration(500)\r\n",
      "            .attr('height', 450)\r\n",
      "            .call(chart);\r\n",
      "\r\n",
      "\r\n",
      "        });\r\n",
      "\r\n",
      "\r\n",
      "\r\n",
      "    </script>\r\n",
      "\r\n",
      "    </body>\r\n",
      "</html>"
     ]
    }
   ],
   "source": [
    "!cat test_lineChart.html"
   ]
  },
  {
   "cell_type": "code",
   "execution_count": 33,
   "metadata": {
    "collapsed": false
   },
   "outputs": [
    {
     "ename": "AttributeError",
     "evalue": "'DatetimeIndex' object has no attribute 'timetuple'",
     "output_type": "error",
     "traceback": [
      "\u001b[0;31m---------------------------------------------------------------------------\u001b[0m",
      "\u001b[0;31mAttributeError\u001b[0m                            Traceback (most recent call last)",
      "\u001b[0;32m<ipython-input-33-fd35e6e528af>\u001b[0m in \u001b[0;36m<module>\u001b[0;34m()\u001b[0m\n\u001b[1;32m      3\u001b[0m \u001b[0;32mimport\u001b[0m \u001b[0mpandas\u001b[0m \u001b[0;32mas\u001b[0m \u001b[0mpd\u001b[0m\u001b[0;34m\u001b[0m\u001b[0m\n\u001b[1;32m      4\u001b[0m \u001b[0mmyDatetimeTimeVariable\u001b[0m \u001b[0;34m=\u001b[0m \u001b[0mpd\u001b[0m\u001b[0;34m.\u001b[0m\u001b[0mdate_range\u001b[0m\u001b[0;34m(\u001b[0m\u001b[0;34m'2011-01-01 01:00:00'\u001b[0m\u001b[0;34m,\u001b[0m \u001b[0mperiods\u001b[0m\u001b[0;34m=\u001b[0m\u001b[0;36m97\u001b[0m\u001b[0;34m,\u001b[0m \u001b[0mfreq\u001b[0m\u001b[0;34m=\u001b[0m\u001b[0;34m'min'\u001b[0m\u001b[0;34m)\u001b[0m\u001b[0;34m\u001b[0m\u001b[0m\n\u001b[0;32m----> 5\u001b[0;31m \u001b[0mseconds_since_epoch\u001b[0m \u001b[0;34m=\u001b[0m \u001b[0mtime\u001b[0m\u001b[0;34m.\u001b[0m\u001b[0mmktime\u001b[0m\u001b[0;34m(\u001b[0m\u001b[0mmyDatetimeTimeVariable\u001b[0m\u001b[0;34m.\u001b[0m\u001b[0mtimetuple\u001b[0m\u001b[0;34m(\u001b[0m\u001b[0;34m)\u001b[0m\u001b[0;34m)\u001b[0m\u001b[0;34m\u001b[0m\u001b[0m\n\u001b[0m",
      "\u001b[0;31mAttributeError\u001b[0m: 'DatetimeIndex' object has no attribute 'timetuple'"
     ]
    }
   ],
   "source": [
    "import time\n",
    "import datetime\n",
    "import pandas as pd\n",
    "myDatetimeTimeVariable = pd.date_range('2011-01-01 01:00:00', periods=97, freq='min')\n",
    "seconds_since_epoch = time.mktime(myDatetimeTimeVariable.timetuple())"
   ]
  },
  {
   "cell_type": "code",
   "execution_count": 39,
   "metadata": {
    "collapsed": false
   },
   "outputs": [
    {
     "data": {
      "text/plain": [
       "1293843600000"
      ]
     },
     "execution_count": 39,
     "metadata": {},
     "output_type": "execute_result"
    }
   ],
   "source": [
    "int(myDatetimeTimeVariable[0].strftime(\"%s\")) * 1000"
   ]
  },
  {
   "cell_type": "code",
   "execution_count": 41,
   "metadata": {
    "collapsed": false
   },
   "outputs": [],
   "source": [
    "dates_epoch_ms = [int(x.strftime(\"%s\"))*1000 for x in myDatetimeTimeVariable]"
   ]
  },
  {
   "cell_type": "code",
   "execution_count": 45,
   "metadata": {
    "collapsed": false
   },
   "outputs": [
    {
     "name": "stdout",
     "output_type": "stream",
     "text": [
      "<!DOCTYPE html>\n",
      "<html lang=\"en\">\n",
      "    <head>\n",
      "        <meta charset=\"utf-8\" />\n",
      "        <link href=\"https://cdnjs.cloudflare.com/ajax/libs/nvd3/1.7.0/nv.d3.min.css\" rel=\"stylesheet\" />\n",
      "        <script src=\"https://cdnjs.cloudflare.com/ajax/libs/d3/3.5.5/d3.min.js\"></script>\n",
      "        <script src=\"https://cdnjs.cloudflare.com/ajax/libs/nvd3/1.7.0/nv.d3.min.js\"></script>\n",
      "    </head>\n",
      "    <body>\n",
      "        \n",
      "    <div id=\"mychart\"><svg style=\"width:800px;height:450px;\"></svg></div>\n",
      "\n",
      "\n",
      "    <script>\n",
      "\n",
      "\n",
      "\n",
      "            data_mychart=[{\"values\": [{\"y\": 10, \"x\": 1438416000000.0}, {\"y\": 20, \"x\": 1438506000000.0}, {\"y\": 30, \"x\": 1438596000000.0}, {\"y\": 40, \"x\": 1438686000000.0}, {\"y\": 25, \"x\": 1438776000000.0}, {\"y\": 10, \"x\": 1438866000000.0}], \"key\": \"My Awesome Data\", \"yAxis\": \"1\"}];\n",
      "\n",
      "\n",
      "        nv.addGraph(function() {\n",
      "        var chart = nv.models.lineChart();\n",
      "\n",
      "        chart.margin({top: 30, right: 60, bottom: 20, left: 60});\n",
      "\n",
      "        var datum = data_mychart;\n",
      "\n",
      "\n",
      "\n",
      "                chart.xAxis\n",
      "                .tickFormat(function(d) { return d3.time.format('%d %b %Y')(new Date(parseInt(d))) }\n",
      ");\n",
      "            chart.yAxis\n",
      "                .tickFormat(d3.format(',.02f'));\n",
      "\n",
      "\n",
      "\n",
      "          chart.showLegend(true);\n",
      "\n",
      "\n",
      "    \n",
      "\n",
      "        \n",
      "\n",
      "\n",
      "\n",
      "            d3.select('#mychart svg')\n",
      "            .datum(datum)\n",
      "            .transition().duration(500)\n",
      "            .attr('width', 800)\n",
      "            .attr('height', 450)\n",
      "            .call(chart);\n",
      "\n",
      "\n",
      "        });\n",
      "\n",
      "\n",
      "\n",
      "    </script>\n",
      "\n",
      "    </body>\n",
      "</html>\n"
     ]
    }
   ],
   "source": [
    "from nvd3 import lineChart\n",
    "import time\n",
    "import datetime\n",
    "\n",
    "# Set up our data\n",
    "\n",
    "xdata = ['2015-08-01 09:00', '2015-08-02 10:00', '2015-08-03 11:00',\n",
    "         '2015-08-04 12:00', '2015-08-05 13:00', '2015-08-06 14:00']\n",
    "ydata = [10, 20, 30, 40, 25, 10]\n",
    "\n",
    "# Convert xdata to datetime.datetime format\n",
    "xdata = [datetime.datetime.strptime(s, \"%Y-%m-%d %H:%M\") for s in xdata]\n",
    "\n",
    "# Convert datetime.datetime xdata to milliseconds since the epoch\n",
    "xdata = [time.mktime(s.timetuple()) * 1000 for s in xdata]\n",
    "\n",
    "# create the lineChart with x_is_date and a date format string\n",
    "chart = lineChart(name=\"myChart\", x_is_date=True,\n",
    "                  date_format=\"%d %b %Y\")\n",
    "# set the width of the chart\n",
    "chart.set_graph_width(800)\n",
    "# add the data to the chart\n",
    "chart.add_serie(y=ydata, x=xdata, name='My Awesome Data')\n",
    "# build the HTML for the chart; you might prefer buildcontent() for an embeddable chart\n",
    "chart.buildhtml()\n",
    "\n",
    "# print the data\n",
    "print chart.htmlcontent\n",
    "\n",
    "f = open('test.html','wb')\n",
    "f.write(chart.htmlcontent)\n",
    "f.close()"
   ]
  },
  {
   "cell_type": "code",
   "execution_count": 44,
   "metadata": {
    "collapsed": false
   },
   "outputs": [
    {
     "data": {
      "text/html": [
       "<!DOCTYPE html>\n",
       "<html lang=\"en\">\n",
       "    <head>\n",
       "        <meta charset=\"utf-8\" />\n",
       "        <link href=\"https://cdnjs.cloudflare.com/ajax/libs/nvd3/1.7.0/nv.d3.min.css\" rel=\"stylesheet\" />\n",
       "        <script src=\"https://cdnjs.cloudflare.com/ajax/libs/d3/3.5.5/d3.min.js\"></script>\n",
       "        <script src=\"https://cdnjs.cloudflare.com/ajax/libs/nvd3/1.7.0/nv.d3.min.js\"></script>\n",
       "    </head>\n",
       "    <body>\n",
       "        \n",
       "    <div id=\"mychart\"><svg style=\"width:800px;height:450px;\"></svg></div>\n",
       "\n",
       "\n",
       "    <script>\n",
       "\n",
       "\n",
       "\n",
       "            data_mychart=[{\"values\": [{\"y\": 10, \"x\": 1438416000000.0}, {\"y\": 20, \"x\": 1438506000000.0}, {\"y\": 30, \"x\": 1438596000000.0}, {\"y\": 40, \"x\": 1438686000000.0}, {\"y\": 25, \"x\": 1438776000000.0}, {\"y\": 10, \"x\": 1438866000000.0}], \"key\": \"My Awesome Data\", \"yAxis\": \"1\"}];\n",
       "\n",
       "\n",
       "        nv.addGraph(function() {\n",
       "        var chart = nv.models.lineChart();\n",
       "\n",
       "        chart.margin({top: 30, right: 60, bottom: 20, left: 60});\n",
       "\n",
       "        var datum = data_mychart;\n",
       "\n",
       "\n",
       "\n",
       "                chart.xAxis\n",
       "                .tickFormat(function(d) { return d3.time.format('%d %b %Y')(new Date(parseInt(d))) }\n",
       ");\n",
       "            chart.yAxis\n",
       "                .tickFormat(d3.format(',.02f'));\n",
       "\n",
       "\n",
       "\n",
       "          chart.showLegend(true);\n",
       "\n",
       "\n",
       "    \n",
       "\n",
       "        \n",
       "\n",
       "\n",
       "\n",
       "            d3.select('#mychart svg')\n",
       "            .datum(datum)\n",
       "            .transition().duration(500)\n",
       "            .attr('width', 800)\n",
       "            .attr('height', 450)\n",
       "            .call(chart);\n",
       "\n",
       "\n",
       "        });\n",
       "\n",
       "\n",
       "\n",
       "    </script>\n",
       "\n",
       "    </body>\n",
       "</html>"
      ],
      "text/plain": [
       "<IPython.core.display.HTML object>"
      ]
     },
     "execution_count": 44,
     "metadata": {},
     "output_type": "execute_result"
    }
   ],
   "source": []
  },
  {
   "cell_type": "code",
   "execution_count": 46,
   "metadata": {
    "collapsed": false
   },
   "outputs": [
    {
     "data": {
      "text/plain": [
       "97"
      ]
     },
     "execution_count": 46,
     "metadata": {},
     "output_type": "execute_result"
    }
   ],
   "source": [
    "len(dates_epoch_ms)"
   ]
  },
  {
   "cell_type": "code",
   "execution_count": 47,
   "metadata": {
    "collapsed": true
   },
   "outputs": [],
   "source": [
    "import numpy as np"
   ]
  },
  {
   "cell_type": "code",
   "execution_count": 74,
   "metadata": {
    "collapsed": true
   },
   "outputs": [],
   "source": [
    "y1 = 10*np.random.rand(97)\n",
    "y2 = np.random.rand(97)"
   ]
  },
  {
   "cell_type": "code",
   "execution_count": 75,
   "metadata": {
    "collapsed": false
   },
   "outputs": [],
   "source": [
    "chart = lineChart(name=\"myChart\", x_is_date=True,date_format=\"%Y\")\n",
    "\n",
    "# set the width of the chart\n",
    "chart.set_graph_width(800)\n",
    "# add the data to the chart\n",
    "chart.add_serie(y=y1, x=dates_epoch_ms, name='My Awesome Data')\n",
    "chart.add_serie(y=y2, x=dates_epoch_ms, name='My Other Awesome Data')\n",
    "# build the HTML for the chart; you might prefer buildcontent() for an embeddable chart\n",
    "chart.buildhtml()\n"
   ]
  },
  {
   "cell_type": "code",
   "execution_count": 76,
   "metadata": {
    "collapsed": false
   },
   "outputs": [
    {
     "name": "stdout",
     "output_type": "stream",
     "text": [
      "<!DOCTYPE html>\n",
      "<html lang=\"en\">\n",
      "    <head>\n",
      "        <meta charset=\"utf-8\" />\n",
      "        <link href=\"https://cdnjs.cloudflare.com/ajax/libs/nvd3/1.7.0/nv.d3.min.css\" rel=\"stylesheet\" />\n",
      "        <script src=\"https://cdnjs.cloudflare.com/ajax/libs/d3/3.5.5/d3.min.js\"></script>\n",
      "        <script src=\"https://cdnjs.cloudflare.com/ajax/libs/nvd3/1.7.0/nv.d3.min.js\"></script>\n",
      "    </head>\n",
      "    <body>\n",
      "        \n",
      "    <div id=\"mychart\"><svg style=\"width:800px;height:450px;\"></svg></div>\n",
      "\n",
      "\n",
      "    <script>\n",
      "\n",
      "\n",
      "\n",
      "            data_mychart=[{\"values\": [{\"y\": 6.424456374437427, \"x\": 1293843600000}, {\"y\": 3.942525370667581, \"x\": 1293843660000}, {\"y\": 3.9022974131203503, \"x\": 1293843720000}, {\"y\": 4.14586372749712, \"x\": 1293843780000}, {\"y\": 4.218594274385214, \"x\": 1293843840000}, {\"y\": 8.474092247643101, \"x\": 1293843900000}, {\"y\": 0.5261403319443425, \"x\": 1293843960000}, {\"y\": 6.498317971347643, \"x\": 1293844020000}, {\"y\": 8.656743842363719, \"x\": 1293844080000}, {\"y\": 0.035120543431492734, \"x\": 1293844140000}, {\"y\": 4.990028525154292, \"x\": 1293844200000}, {\"y\": 9.110843126879928, \"x\": 1293844260000}, {\"y\": 1.7083012337761505, \"x\": 1293844320000}, {\"y\": 8.289604907706225, \"x\": 1293844380000}, {\"y\": 1.582769541375194, \"x\": 1293844440000}, {\"y\": 1.6159874052772416, \"x\": 1293844500000}, {\"y\": 7.774501401547448, \"x\": 1293844560000}, {\"y\": 4.462915078611562, \"x\": 1293844620000}, {\"y\": 4.125181840862081, \"x\": 1293844680000}, {\"y\": 2.9368488211365817, \"x\": 1293844740000}, {\"y\": 3.143174699261342, \"x\": 1293844800000}, {\"y\": 6.520781931543721, \"x\": 1293844860000}, {\"y\": 3.735266026275752, \"x\": 1293844920000}, {\"y\": 1.3612606215644596, \"x\": 1293844980000}, {\"y\": 7.857583160453819, \"x\": 1293845040000}, {\"y\": 5.847420574426692, \"x\": 1293845100000}, {\"y\": 1.8657771013793345, \"x\": 1293845160000}, {\"y\": 2.652218021971561, \"x\": 1293845220000}, {\"y\": 6.394956977671304, \"x\": 1293845280000}, {\"y\": 0.059803107411621204, \"x\": 1293845340000}, {\"y\": 7.3588120221702535, \"x\": 1293845400000}, {\"y\": 4.361375580412499, \"x\": 1293845460000}, {\"y\": 5.520521325950574, \"x\": 1293845520000}, {\"y\": 8.860250932369077, \"x\": 1293845580000}, {\"y\": 4.255231278890216, \"x\": 1293845640000}, {\"y\": 4.571914250880573, \"x\": 1293845700000}, {\"y\": 5.429738294245757, \"x\": 1293845760000}, {\"y\": 5.453205538149591, \"x\": 1293845820000}, {\"y\": 4.139370064768841, \"x\": 1293845880000}, {\"y\": 9.988037860882004, \"x\": 1293845940000}, {\"y\": 8.381308352270342, \"x\": 1293846000000}, {\"y\": 4.986037856226976, \"x\": 1293846060000}, {\"y\": 8.30373883949185, \"x\": 1293846120000}, {\"y\": 5.0906696829012, \"x\": 1293846180000}, {\"y\": 8.904181786912327, \"x\": 1293846240000}, {\"y\": 5.782047299358425, \"x\": 1293846300000}, {\"y\": 5.72314665417053, \"x\": 1293846360000}, {\"y\": 2.605895653793824, \"x\": 1293846420000}, {\"y\": 0.059611032079718296, \"x\": 1293846480000}, {\"y\": 8.883128151829045, \"x\": 1293846540000}, {\"y\": 0.17372228926823885, \"x\": 1293846600000}, {\"y\": 1.565579543119645, \"x\": 1293846660000}, {\"y\": 6.794181343345792, \"x\": 1293846720000}, {\"y\": 6.260449988659207, \"x\": 1293846780000}, {\"y\": 5.215282182163554, \"x\": 1293846840000}, {\"y\": 7.031389499642316, \"x\": 1293846900000}, {\"y\": 1.9312366802524006, \"x\": 1293846960000}, {\"y\": 9.51483546719419, \"x\": 1293847020000}, {\"y\": 2.6560601994766286, \"x\": 1293847080000}, {\"y\": 7.266474915250841, \"x\": 1293847140000}, {\"y\": 7.929871854799396, \"x\": 1293847200000}, {\"y\": 8.711141506419779, \"x\": 1293847260000}, {\"y\": 3.90910076415527, \"x\": 1293847320000}, {\"y\": 0.5235283503259325, \"x\": 1293847380000}, {\"y\": 0.5351268404269005, \"x\": 1293847440000}, {\"y\": 2.5599476462062, \"x\": 1293847500000}, {\"y\": 6.562149746779466, \"x\": 1293847560000}, {\"y\": 3.1740235191165436, \"x\": 1293847620000}, {\"y\": 6.004515354151816, \"x\": 1293847680000}, {\"y\": 4.916056640613652, \"x\": 1293847740000}, {\"y\": 0.7766733865835262, \"x\": 1293847800000}, {\"y\": 0.5074554857965108, \"x\": 1293847860000}, {\"y\": 8.56767480470551, \"x\": 1293847920000}, {\"y\": 5.930216646966039, \"x\": 1293847980000}, {\"y\": 5.414935094696477, \"x\": 1293848040000}, {\"y\": 5.4378186938844655, \"x\": 1293848100000}, {\"y\": 7.467113530210212, \"x\": 1293848160000}, {\"y\": 6.395706971181934, \"x\": 1293848220000}, {\"y\": 1.4748607539289937, \"x\": 1293848280000}, {\"y\": 1.9902705997270342, \"x\": 1293848340000}, {\"y\": 1.9644775633759082, \"x\": 1293848400000}, {\"y\": 6.658803709694493, \"x\": 1293848460000}, {\"y\": 1.8936406389893257, \"x\": 1293848520000}, {\"y\": 1.6062658298437538, \"x\": 1293848580000}, {\"y\": 3.4482053017843506, \"x\": 1293848640000}, {\"y\": 4.541257421729318, \"x\": 1293848700000}, {\"y\": 3.583505468101392, \"x\": 1293848760000}, {\"y\": 1.933930336809092, \"x\": 1293848820000}, {\"y\": 9.315361427031135, \"x\": 1293848880000}, {\"y\": 6.928743182971857, \"x\": 1293848940000}, {\"y\": 3.480706753290854, \"x\": 1293849000000}, {\"y\": 0.9058579551884194, \"x\": 1293849060000}, {\"y\": 3.873605150011329, \"x\": 1293849120000}, {\"y\": 0.35827212254900154, \"x\": 1293849180000}, {\"y\": 1.5797046098516287, \"x\": 1293849240000}, {\"y\": 9.960582975816116, \"x\": 1293849300000}, {\"y\": 3.059774019095489, \"x\": 1293849360000}], \"key\": \"My Awesome Data\", \"yAxis\": \"1\"}, {\"values\": [{\"y\": 0.07010878055253289, \"x\": 1293843600000}, {\"y\": 0.4508334681408701, \"x\": 1293843660000}, {\"y\": 0.6669320101228107, \"x\": 1293843720000}, {\"y\": 0.852022944116262, \"x\": 1293843780000}, {\"y\": 0.44268934233782653, \"x\": 1293843840000}, {\"y\": 0.8473423961407938, \"x\": 1293843900000}, {\"y\": 0.30413012846649135, \"x\": 1293843960000}, {\"y\": 0.2060142046717366, \"x\": 1293844020000}, {\"y\": 0.5428313262078335, \"x\": 1293844080000}, {\"y\": 0.3187928821517123, \"x\": 1293844140000}, {\"y\": 0.5205843195690909, \"x\": 1293844200000}, {\"y\": 0.7923198726530689, \"x\": 1293844260000}, {\"y\": 0.8123796444921644, \"x\": 1293844320000}, {\"y\": 0.08029539846273548, \"x\": 1293844380000}, {\"y\": 0.09124673534235694, \"x\": 1293844440000}, {\"y\": 0.1753169655446033, \"x\": 1293844500000}, {\"y\": 0.06533008501466175, \"x\": 1293844560000}, {\"y\": 0.6757841705561415, \"x\": 1293844620000}, {\"y\": 0.8621512232858055, \"x\": 1293844680000}, {\"y\": 0.9318120592137188, \"x\": 1293844740000}, {\"y\": 0.49675214048368277, \"x\": 1293844800000}, {\"y\": 0.16378233020037425, \"x\": 1293844860000}, {\"y\": 0.7215705774513437, \"x\": 1293844920000}, {\"y\": 0.03366455119878542, \"x\": 1293844980000}, {\"y\": 0.22383050055412734, \"x\": 1293845040000}, {\"y\": 0.6931161364384435, \"x\": 1293845100000}, {\"y\": 0.42557758903007337, \"x\": 1293845160000}, {\"y\": 0.002109988579266475, \"x\": 1293845220000}, {\"y\": 0.4147121928454598, \"x\": 1293845280000}, {\"y\": 0.9373830198284899, \"x\": 1293845340000}, {\"y\": 0.6736944485680225, \"x\": 1293845400000}, {\"y\": 0.8320519378576231, \"x\": 1293845460000}, {\"y\": 0.48882841223639395, \"x\": 1293845520000}, {\"y\": 0.5218339752642587, \"x\": 1293845580000}, {\"y\": 0.616235580394872, \"x\": 1293845640000}, {\"y\": 0.8768652037153787, \"x\": 1293845700000}, {\"y\": 0.7873066888489588, \"x\": 1293845760000}, {\"y\": 0.9330889900109879, \"x\": 1293845820000}, {\"y\": 0.8903457432700022, \"x\": 1293845880000}, {\"y\": 0.383831056541065, \"x\": 1293845940000}, {\"y\": 0.5023825725516672, \"x\": 1293846000000}, {\"y\": 0.3737894022520082, \"x\": 1293846060000}, {\"y\": 0.5312772895175334, \"x\": 1293846120000}, {\"y\": 0.4215471698834584, \"x\": 1293846180000}, {\"y\": 0.06586729703993954, \"x\": 1293846240000}, {\"y\": 0.7239844389034908, \"x\": 1293846300000}, {\"y\": 0.8111417621425863, \"x\": 1293846360000}, {\"y\": 0.8580093888024863, \"x\": 1293846420000}, {\"y\": 0.3705210180646763, \"x\": 1293846480000}, {\"y\": 0.6563772785928009, \"x\": 1293846540000}, {\"y\": 0.962839077488056, \"x\": 1293846600000}, {\"y\": 0.1891088224611963, \"x\": 1293846660000}, {\"y\": 0.4627076428018163, \"x\": 1293846720000}, {\"y\": 0.9197889014063462, \"x\": 1293846780000}, {\"y\": 0.1948912096871248, \"x\": 1293846840000}, {\"y\": 0.7176614761667955, \"x\": 1293846900000}, {\"y\": 0.936662079595258, \"x\": 1293846960000}, {\"y\": 0.8030014391609991, \"x\": 1293847020000}, {\"y\": 0.2549215837198976, \"x\": 1293847080000}, {\"y\": 0.7672355042211473, \"x\": 1293847140000}, {\"y\": 0.4535886141459332, \"x\": 1293847200000}, {\"y\": 0.8700900324973354, \"x\": 1293847260000}, {\"y\": 0.5475256490599123, \"x\": 1293847320000}, {\"y\": 0.6943178574188114, \"x\": 1293847380000}, {\"y\": 0.6529236193944996, \"x\": 1293847440000}, {\"y\": 0.40362850405555095, \"x\": 1293847500000}, {\"y\": 0.9632854967019127, \"x\": 1293847560000}, {\"y\": 0.2742785772063915, \"x\": 1293847620000}, {\"y\": 0.6918039812002287, \"x\": 1293847680000}, {\"y\": 0.4188797726742056, \"x\": 1293847740000}, {\"y\": 0.34418750587897573, \"x\": 1293847800000}, {\"y\": 0.8118539430759781, \"x\": 1293847860000}, {\"y\": 0.14726729598202504, \"x\": 1293847920000}, {\"y\": 0.0072801432709183045, \"x\": 1293847980000}, {\"y\": 0.19083435441003593, \"x\": 1293848040000}, {\"y\": 0.3463668888827741, \"x\": 1293848100000}, {\"y\": 0.738947809324456, \"x\": 1293848160000}, {\"y\": 0.223513672180214, \"x\": 1293848220000}, {\"y\": 0.34283680827346097, \"x\": 1293848280000}, {\"y\": 0.9767574145842519, \"x\": 1293848340000}, {\"y\": 0.6052877283019644, \"x\": 1293848400000}, {\"y\": 0.19748674227400942, \"x\": 1293848460000}, {\"y\": 0.8023684446818788, \"x\": 1293848520000}, {\"y\": 0.40809603420556495, \"x\": 1293848580000}, {\"y\": 0.8376710100301555, \"x\": 1293848640000}, {\"y\": 0.23565473385245694, \"x\": 1293848700000}, {\"y\": 0.02865683070119851, \"x\": 1293848760000}, {\"y\": 0.14992079126997448, \"x\": 1293848820000}, {\"y\": 0.7231124742765958, \"x\": 1293848880000}, {\"y\": 0.16404837331087274, \"x\": 1293848940000}, {\"y\": 0.3627984603492018, \"x\": 1293849000000}, {\"y\": 0.6233158573305598, \"x\": 1293849060000}, {\"y\": 0.6191075784400898, \"x\": 1293849120000}, {\"y\": 0.8641866977870792, \"x\": 1293849180000}, {\"y\": 0.5637458112667348, \"x\": 1293849240000}, {\"y\": 0.2498350522152858, \"x\": 1293849300000}, {\"y\": 0.46141556163010733, \"x\": 1293849360000}], \"key\": \"My Other Awesome Data\", \"yAxis\": \"1\"}];\n",
      "\n",
      "\n",
      "        nv.addGraph(function() {\n",
      "        var chart = nv.models.lineChart();\n",
      "\n",
      "        chart.margin({top: 30, right: 60, bottom: 20, left: 60});\n",
      "\n",
      "        var datum = data_mychart;\n",
      "\n",
      "\n",
      "\n",
      "                chart.xAxis\n",
      "                .tickFormat(function(d) { return d3.time.format('%d %b %Y')(new Date(parseInt(d))) }\n",
      ");\n",
      "            chart.yAxis\n",
      "                .tickFormat(d3.format(',.02f'));\n",
      "\n",
      "\n",
      "\n",
      "          chart.showLegend(true);\n",
      "\n",
      "\n",
      "    \n",
      "\n",
      "        \n",
      "\n",
      "\n",
      "\n",
      "            d3.select('#mychart svg')\n",
      "            .datum(datum)\n",
      "            .transition().duration(500)\n",
      "            .attr('width', 800)\n",
      "            .attr('height', 450)\n",
      "            .call(chart);\n",
      "\n",
      "\n",
      "        });\n",
      "\n",
      "\n",
      "\n",
      "    </script>\n",
      "\n",
      "    </body>\n",
      "</html>\n"
     ]
    }
   ],
   "source": [
    "print(chart.htmlcontent)"
   ]
  },
  {
   "cell_type": "code",
   "execution_count": 77,
   "metadata": {
    "collapsed": true
   },
   "outputs": [],
   "source": [
    "f = open('test.html','wb')\n",
    "f.write(chart.htmlcontent)\n",
    "f.close()"
   ]
  },
  {
   "cell_type": "code",
   "execution_count": 52,
   "metadata": {
    "collapsed": true
   },
   "outputs": [],
   "source": [
    "lineChart?"
   ]
  },
  {
   "cell_type": "code",
   "execution_count": 57,
   "metadata": {
    "collapsed": true
   },
   "outputs": [],
   "source": [
    "!rm test.html"
   ]
  },
  {
   "cell_type": "code",
   "execution_count": 78,
   "metadata": {
    "collapsed": false
   },
   "outputs": [
    {
     "name": "stdout",
     "output_type": "stream",
     "text": [
      "Variable                 Type                Data/Info\n",
      "------------------------------------------------------\n",
      "HTML                     type                <class 'IPython.core.display.HTML'>\n",
      "chart                    lineChart           <!DOCTYPE html>\\n<html la<...>>\\n\\n    </body>\\n</html>\n",
      "chart1                   pieChart            <!DOCTYPE html>\\n<html la<...>>\\n\\n    </body>\\n</html>\n",
      "chart2                   stackedAreaChart    <!DOCTYPE html>\\n<html la<...>>\\n\\n    </body>\\n</html>\n",
      "d                        module              <module 'IPython.display'<...>ges/IPython/display.pyc'>\n",
      "dates_epoch_ms           list                n=97\n",
      "datetime                 module              <module 'datetime' from '<...>lib-dynload/datetime.so'>\n",
      "extra_serie              dict                n=1\n",
      "f                        file                <closed file 'test.html',<...>mode 'wb' at 0x111e49e40>\n",
      "i                        int                 49\n",
      "kwargs1                  dict                n=1\n",
      "kwargs2                  dict                n=1\n",
      "kwargs3                  dict                n=2\n",
      "lineChart                type                <class 'nvd3.lineChart.lineChart'>\n",
      "myDatetimeTimeVariable   DatetimeIndex       DatetimeIndex(['2011-01-0<...>atetime64[ns]', freq='T')\n",
      "nb_element               int                 50\n",
      "np                       module              <module 'numpy' from '/Us<...>ages/numpy/__init__.pyc'>\n",
      "nvd3                     module              <module 'nvd3' from '/Use<...>kages/nvd3/__init__.pyc'>\n",
      "output_file              file                <closed file 'test_lineCh<...> mode 'w' at 0x104872930>\n",
      "pd                       module              <module 'pandas' from '/U<...>ges/pandas/__init__.pyc'>\n",
      "random                   module              <module 'random' from '/U<...>ib/python2.7/random.pyc'>\n",
      "s                        datetime            2015-08-06 14:00:00\n",
      "time                     module              <module 'time' from '/Use<...>2.7/lib-dynload/time.so'>\n",
      "type                     str                 lineChart\n",
      "x                        Timestamp           2011-01-01 02:36:00\n",
      "xdata                    list                n=6\n",
      "y                        ndarray             97: 97 elems, type `float64`, 776 bytes\n",
      "y1                       ndarray             97: 97 elems, type `float64`, 776 bytes\n",
      "y2                       ndarray             97: 97 elems, type `float64`, 776 bytes\n",
      "ydata                    list                n=6\n",
      "ydata2                   list                n=24\n",
      "ydata3                   list                n=50\n"
     ]
    }
   ],
   "source": [
    "whos"
   ]
  },
  {
   "cell_type": "code",
   "execution_count": null,
   "metadata": {
    "collapsed": true
   },
   "outputs": [],
   "source": []
  }
 ],
 "metadata": {
  "anaconda-cloud": {},
  "kernelspec": {
   "display_name": "Python [default]",
   "language": "python",
   "name": "python2"
  },
  "language_info": {
   "codemirror_mode": {
    "name": "ipython",
    "version": 2
   },
   "file_extension": ".py",
   "mimetype": "text/x-python",
   "name": "python",
   "nbconvert_exporter": "python",
   "pygments_lexer": "ipython2",
   "version": "2.7.11"
  },
  "latex_envs": {
   "bibliofile": "biblio.bib",
   "cite_by": "apalike",
   "current_citInitial": 1,
   "eqLabelWithNumbers": true,
   "eqNumInitial": 0
  },
  "toc": {
   "nav_menu": {
    "height": "12px",
    "width": "252px"
   },
   "navigate_menu": true,
   "number_sections": true,
   "sideBar": true,
   "threshold": 4,
   "toc_cell": false,
   "toc_section_display": "block",
   "toc_window_display": false
  }
 },
 "nbformat": 4,
 "nbformat_minor": 0
}
